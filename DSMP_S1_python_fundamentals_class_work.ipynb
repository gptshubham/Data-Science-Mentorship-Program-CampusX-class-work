{
  "cells": [
    {
      "cell_type": "markdown",
      "metadata": {
        "id": "tHlvLCmtnHRI"
      },
      "source": [
        "# 1.Python Output"
      ]
    },
    {
      "cell_type": "code",
      "execution_count": null,
      "metadata": {
        "colab": {
          "base_uri": "https://localhost:8080/"
        },
        "id": "ZlKotf_GnPAf",
        "outputId": "b1761835-1eba-4802-ef0c-2b399114a70f"
      },
      "outputs": [
        {
          "name": "stdout",
          "output_type": "stream",
          "text": [
            "Hello World\n"
          ]
        }
      ],
      "source": [
        "print(\"Hello World\")"
      ]
    },
    {
      "cell_type": "code",
      "execution_count": null,
      "metadata": {
        "colab": {
          "base_uri": "https://localhost:8080/",
          "height": 140
        },
        "id": "cjfoAOdloFRe",
        "outputId": "2897aefd-205d-4093-cd9a-5b669e4912ab"
      },
      "outputs": [
        {
          "ename": "SyntaxError",
          "evalue": "ignored",
          "output_type": "error",
          "traceback": [
            "\u001b[0;36m  File \u001b[0;32m\"<ipython-input-2-6135c6da936c>\"\u001b[0;36m, line \u001b[0;32m1\u001b[0m\n\u001b[0;31m    print(hello world)\u001b[0m\n\u001b[0m          ^\u001b[0m\n\u001b[0;31mSyntaxError\u001b[0m\u001b[0;31m:\u001b[0m invalid syntax. Perhaps you forgot a comma?\n"
          ]
        }
      ],
      "source": [
        "print(hello world)"
      ]
    },
    {
      "cell_type": "code",
      "execution_count": null,
      "metadata": {
        "colab": {
          "base_uri": "https://localhost:8080/"
        },
        "id": "MOwI3IngocUT",
        "outputId": "ab5b8f32-7d57-4913-b296-dca43212ed3b"
      },
      "outputs": [
        {
          "name": "stdout",
          "output_type": "stream",
          "text": [
            "7\n"
          ]
        }
      ],
      "source": [
        "print(7)"
      ]
    },
    {
      "cell_type": "code",
      "execution_count": null,
      "metadata": {
        "colab": {
          "base_uri": "https://localhost:8080/"
        },
        "id": "bwmXCIQyoyNt",
        "outputId": "85c8aa28-2cc2-4385-99a3-9a9e9a13088c"
      },
      "outputs": [
        {
          "name": "stdout",
          "output_type": "stream",
          "text": [
            "7.7\n"
          ]
        }
      ],
      "source": [
        "print(7.7)"
      ]
    },
    {
      "cell_type": "code",
      "execution_count": null,
      "metadata": {
        "colab": {
          "base_uri": "https://localhost:8080/"
        },
        "id": "hQMWRKOoo3o6",
        "outputId": "961244c1-84dd-4144-e964-783a45a30501"
      },
      "outputs": [
        {
          "name": "stdout",
          "output_type": "stream",
          "text": [
            "True\n"
          ]
        }
      ],
      "source": [
        "print(True)"
      ]
    },
    {
      "cell_type": "code",
      "execution_count": null,
      "metadata": {
        "colab": {
          "base_uri": "https://localhost:8080/"
        },
        "id": "M76qkMD0o9y5",
        "outputId": "43fa0361-dc81-4a41-9827-fca935ae1842"
      },
      "outputs": [
        {
          "name": "stdout",
          "output_type": "stream",
          "text": [
            "Hello 1 4.5 True\n"
          ]
        }
      ],
      "source": [
        "print(\"Hello\",1,4.5,True)"
      ]
    },
    {
      "cell_type": "code",
      "execution_count": null,
      "metadata": {
        "colab": {
          "base_uri": "https://localhost:8080/"
        },
        "id": "r-5HlUeupWfz",
        "outputId": "a1d0ae02-a8c4-4818-b368-31c850f64542"
      },
      "outputs": [
        {
          "name": "stdout",
          "output_type": "stream",
          "text": [
            "Hello\n",
            "1\n",
            "4.5\n",
            "True\n"
          ]
        }
      ],
      "source": [
        "print(\"Hello\",1,4.5,True,sep='\\n')"
      ]
    },
    {
      "cell_type": "code",
      "execution_count": null,
      "metadata": {
        "colab": {
          "base_uri": "https://localhost:8080/"
        },
        "id": "b-5WDG3cpzJn",
        "outputId": "ae794c82-ebcc-4604-aa2e-97930c7b11a8"
      },
      "outputs": [
        {
          "name": "stdout",
          "output_type": "stream",
          "text": [
            "Hello-1-4.5-True\n"
          ]
        }
      ],
      "source": [
        "print(\"Hello\",1,4.5,True,sep='-')"
      ]
    },
    {
      "cell_type": "code",
      "execution_count": null,
      "metadata": {
        "colab": {
          "base_uri": "https://localhost:8080/"
        },
        "id": "7hCGp1XIp7h3",
        "outputId": "7b88c522-6751-4458-c75a-102a51fbccfc"
      },
      "outputs": [
        {
          "name": "stdout",
          "output_type": "stream",
          "text": [
            "Hello world\n"
          ]
        }
      ],
      "source": [
        "print(\"Hello\",end=\" \")\n",
        "print(\"world\")"
      ]
    },
    {
      "cell_type": "code",
      "execution_count": null,
      "metadata": {
        "colab": {
          "base_uri": "https://localhost:8080/"
        },
        "id": "r6-WgVq1qJ8u",
        "outputId": "235e775d-d8b5-4985-f15e-76a930cd1d6e"
      },
      "outputs": [
        {
          "name": "stdout",
          "output_type": "stream",
          "text": [
            "\n",
            "<class 'NoneType'>\n"
          ]
        }
      ],
      "source": [
        "print(type(print()))"
      ]
    },
    {
      "cell_type": "markdown",
      "metadata": {
        "id": "TCimiMYX4l2k"
      },
      "source": [
        "# 2. Data Types"
      ]
    },
    {
      "cell_type": "code",
      "execution_count": null,
      "metadata": {
        "colab": {
          "base_uri": "https://localhost:8080/"
        },
        "id": "etWy2W3BrzUa",
        "outputId": "909d28f7-6262-4608-ca4c-30f0fd09aab4"
      },
      "outputs": [
        {
          "name": "stdout",
          "output_type": "stream",
          "text": [
            "1e+308\n"
          ]
        }
      ],
      "source": [
        "print(1e308)"
      ]
    },
    {
      "cell_type": "code",
      "execution_count": null,
      "metadata": {
        "colab": {
          "base_uri": "https://localhost:8080/"
        },
        "id": "cTNPMv4P4Bpg",
        "outputId": "74f036ad-0f75-4551-e3a3-1c58165ea9b1"
      },
      "outputs": [
        {
          "name": "stdout",
          "output_type": "stream",
          "text": [
            "inf\n"
          ]
        }
      ],
      "source": [
        "print(1e309)"
      ]
    },
    {
      "cell_type": "code",
      "execution_count": null,
      "metadata": {
        "colab": {
          "base_uri": "https://localhost:8080/"
        },
        "id": "oV_FpvBd4UiA",
        "outputId": "5bd6ee9f-2c7f-44c4-e53b-0535ebef8265"
      },
      "outputs": [
        {
          "name": "stdout",
          "output_type": "stream",
          "text": [
            "1.7e+308\n"
          ]
        }
      ],
      "source": [
        "print(1.7e308)"
      ]
    },
    {
      "cell_type": "code",
      "execution_count": null,
      "metadata": {
        "colab": {
          "base_uri": "https://localhost:8080/"
        },
        "id": "2RhN1OQE40K9",
        "outputId": "3e812804-54f6-412d-d2b3-9ef9f8249567"
      },
      "outputs": [
        {
          "name": "stdout",
          "output_type": "stream",
          "text": [
            "inf\n"
          ]
        }
      ],
      "source": [
        "print(1.7e309)"
      ]
    },
    {
      "cell_type": "code",
      "execution_count": null,
      "metadata": {
        "colab": {
          "base_uri": "https://localhost:8080/"
        },
        "id": "dkVICQIb43qr",
        "outputId": "3cecd54a-7874-4f11-d94b-bcf278441ea7"
      },
      "outputs": [
        {
          "name": "stdout",
          "output_type": "stream",
          "text": [
            "(5+6j)\n"
          ]
        }
      ],
      "source": [
        "print(5+6j)"
      ]
    },
    {
      "cell_type": "code",
      "execution_count": null,
      "metadata": {
        "colab": {
          "base_uri": "https://localhost:8080/"
        },
        "id": "scZyQajS5WeS",
        "outputId": "129fdef3-eedb-42ae-a132-019a79384653"
      },
      "outputs": [
        {
          "name": "stdout",
          "output_type": "stream",
          "text": [
            "<class 'complex'>\n"
          ]
        }
      ],
      "source": [
        "print(type(5+6j))"
      ]
    },
    {
      "cell_type": "code",
      "execution_count": null,
      "metadata": {
        "colab": {
          "base_uri": "https://localhost:8080/"
        },
        "id": "Gzo9D27s5ava",
        "outputId": "763aba21-23d9-4f70-9ff6-bda672226060"
      },
      "outputs": [
        {
          "name": "stdout",
          "output_type": "stream",
          "text": [
            "<class 'NoneType'>\n"
          ]
        }
      ],
      "source": [
        "print(type(None))"
      ]
    },
    {
      "cell_type": "markdown",
      "metadata": {
        "id": "AEGh3z0b6-XR"
      },
      "source": [
        "# 3. Variables"
      ]
    },
    {
      "cell_type": "code",
      "execution_count": null,
      "metadata": {
        "colab": {
          "base_uri": "https://localhost:8080/"
        },
        "id": "xbdhRnxv6LjL",
        "outputId": "e0371787-2e31-4b3c-c229-d294e85d515d"
      },
      "outputs": [
        {
          "name": "stdout",
          "output_type": "stream",
          "text": [
            "shubham\n"
          ]
        }
      ],
      "source": [
        "name = \"shubham\"\n",
        "print(name)"
      ]
    },
    {
      "cell_type": "code",
      "execution_count": null,
      "metadata": {
        "colab": {
          "base_uri": "https://localhost:8080/"
        },
        "id": "8MlEQvmD8UHQ",
        "outputId": "f9103b18-e88e-498c-e202-2d07c5554909"
      },
      "outputs": [
        {
          "name": "stdout",
          "output_type": "stream",
          "text": [
            "<class 'str'>\n"
          ]
        }
      ],
      "source": [
        "print(type(name))"
      ]
    },
    {
      "cell_type": "code",
      "execution_count": null,
      "metadata": {
        "colab": {
          "base_uri": "https://localhost:8080/"
        },
        "id": "Q5SnYuz-8oMn",
        "outputId": "4ac4d2b3-23ee-42c4-8a61-0dc0e100ec53"
      },
      "outputs": [
        {
          "name": "stdout",
          "output_type": "stream",
          "text": [
            "150\n",
            "<class 'int'>\n"
          ]
        }
      ],
      "source": [
        "age = 150\n",
        "print(age)\n",
        "print(type(age))"
      ]
    },
    {
      "cell_type": "code",
      "execution_count": null,
      "metadata": {
        "colab": {
          "base_uri": "https://localhost:8080/"
        },
        "id": "B5yDV9sS8xve",
        "outputId": "bdc94beb-c9d2-4f40-8fe3-89d7d7792a53"
      },
      "outputs": [
        {
          "name": "stdout",
          "output_type": "stream",
          "text": [
            "11\n",
            "5\n",
            "<class 'int'>\n",
            "shubham\n",
            "<class 'str'>\n"
          ]
        }
      ],
      "source": [
        "a = 5\n",
        "b = 6\n",
        "print(a+b)\n",
        "print(a)\n",
        "print(type(a))\n",
        "a = \"shubham\"\n",
        "print(a)\n",
        "print(type(a))"
      ]
    },
    {
      "cell_type": "code",
      "execution_count": null,
      "metadata": {
        "colab": {
          "base_uri": "https://localhost:8080/"
        },
        "id": "7KYgkX-P9FZd",
        "outputId": "707c97d2-7e51-498c-9ea0-83e37296ed18"
      },
      "outputs": [
        {
          "name": "stdout",
          "output_type": "stream",
          "text": [
            "1 2 3\n"
          ]
        }
      ],
      "source": [
        "x,y,z = 1,2,3\n",
        "print(x,y,z)"
      ]
    },
    {
      "cell_type": "code",
      "execution_count": null,
      "metadata": {
        "colab": {
          "base_uri": "https://localhost:8080/"
        },
        "id": "Q-tzqVNJ-6iX",
        "outputId": "c9cf8740-e1ed-4606-c1de-b6d8c1ec7d53"
      },
      "outputs": [
        {
          "name": "stdout",
          "output_type": "stream",
          "text": [
            "4\n",
            "4\n",
            "4\n"
          ]
        }
      ],
      "source": [
        "p=q=r= 4\n",
        "print(p)\n",
        "print(q)\n",
        "print(r)"
      ]
    },
    {
      "cell_type": "markdown",
      "metadata": {
        "id": "u5QIkY_fApYy"
      },
      "source": [
        "# Comments"
      ]
    },
    {
      "cell_type": "code",
      "execution_count": null,
      "metadata": {
        "id": "taYeL7OBAojs"
      },
      "outputs": [],
      "source": [
        "# single line comment"
      ]
    },
    {
      "cell_type": "code",
      "execution_count": null,
      "metadata": {
        "colab": {
          "base_uri": "https://localhost:8080/",
          "height": 35
        },
        "id": "l-iyWSKNA0xK",
        "outputId": "34e45bd2-e105-459b-cffc-c32cce8b0304"
      },
      "outputs": [
        {
          "data": {
            "application/vnd.google.colaboratory.intrinsic+json": {
              "type": "string"
            },
            "text/plain": [
              "'multi\\nline \\ncomment\\n'"
            ]
          },
          "execution_count": 24,
          "metadata": {},
          "output_type": "execute_result"
        }
      ],
      "source": [
        "\"\"\"multi\n",
        "line\n",
        "comment\n",
        "\"\"\""
      ]
    },
    {
      "cell_type": "markdown",
      "metadata": {
        "id": "ixgDRq7kAUFX"
      },
      "source": [
        "# 4. Keywords and Identifires"
      ]
    },
    {
      "cell_type": "code",
      "execution_count": null,
      "metadata": {
        "id": "HzRDUQfN_Hmn"
      },
      "outputs": [],
      "source": [
        "# Keywords"
      ]
    },
    {
      "cell_type": "code",
      "execution_count": null,
      "metadata": {
        "id": "y64fLCnbB2aZ"
      },
      "outputs": [],
      "source": [
        "# identifiers --> Names --> Variables, classes , functions"
      ]
    },
    {
      "cell_type": "markdown",
      "metadata": {
        "id": "pLInjxAxij4-"
      },
      "source": [
        "# 5. User Input"
      ]
    },
    {
      "cell_type": "code",
      "execution_count": null,
      "metadata": {
        "colab": {
          "base_uri": "https://localhost:8080/"
        },
        "id": "Kq0qZbyHgvgM",
        "outputId": "63cf881c-a0a5-4179-e658-1b306577d0b7"
      },
      "outputs": [
        {
          "name": "stdout",
          "output_type": "stream",
          "text": [
            "Enter First Number :7\n",
            "Enter Second Number :6\n",
            "Sum = 76\n",
            "<class 'str'>\n",
            "<class 'str'>\n",
            "Sum = 13\n"
          ]
        }
      ],
      "source": [
        "# taking input from user and storing it in fnum variable\n",
        "fnum = ((input(\"Enter First Number :\")))\n",
        "# taking input from user and storing it in snum variable\n",
        "snum = ((input(\"Enter Second Number :\")))\n",
        "# printing the sum of fnum and snum\n",
        "print(\"Sum =\",fnum + snum)\n",
        "print(type(fnum))\n",
        "print(type(snum))\n",
        "print(\"Sum =\",int(fnum) + int(snum))"
      ]
    },
    {
      "cell_type": "code",
      "execution_count": null,
      "metadata": {
        "colab": {
          "base_uri": "https://localhost:8080/"
        },
        "id": "CrXVb-50iaN5",
        "outputId": "b5b80acf-dfec-4dfd-c49e-ef1b3f2e2aad"
      },
      "outputs": [
        {
          "name": "stdout",
          "output_type": "stream",
          "text": [
            "Enter First Number :7\n",
            "Enter Second Number :6\n",
            "Sum = 13\n",
            "<class 'int'>\n",
            "<class 'int'>\n"
          ]
        }
      ],
      "source": [
        "# taking input from user and storing it in fnum variable\n",
        "fnum = (int(input(\"Enter First Number :\")))\n",
        "# taking input from user and storing it in snum variable\n",
        "snum = (int(input(\"Enter Second Number :\")))\n",
        "# printing the sum of fnum and snum\n",
        "print(\"Sum =\",fnum + snum)\n",
        "print(type(fnum))\n",
        "print(type(snum))"
      ]
    },
    {
      "cell_type": "markdown",
      "metadata": {
        "id": "o1b0TSC4kQNX"
      },
      "source": [
        "# 6. Type Conversion"
      ]
    },
    {
      "cell_type": "code",
      "execution_count": 1,
      "metadata": {
        "colab": {
          "base_uri": "https://localhost:8080/"
        },
        "id": "K-TEWbITkK0H",
        "outputId": "110ac3ff-de92-4fa8-c5e5-e2f687a477b9"
      },
      "outputs": [
        {
          "name": "stdout",
          "output_type": "stream",
          "text": [
            "7 <class 'int'>\n",
            "7.7 <class 'float'>\n",
            "14.7 <class 'float'>\n",
            "1\n",
            "0\n"
          ]
        }
      ],
      "source": [
        "# Implicit Type Conversion\n",
        "\n",
        "a = 7\n",
        "print(a,type(a))\n",
        "b = 7.7\n",
        "print(b,type(b))\n",
        "print((a + b),type(a+b))\n",
        "print(int(True))\n",
        "print(int(False))"
      ]
    },
    {
      "cell_type": "code",
      "execution_count": null,
      "metadata": {
        "colab": {
          "base_uri": "https://localhost:8080/",
          "height": 175
        },
        "id": "F775-dB6ks1P",
        "outputId": "423b6f27-dd8f-4d9b-9973-33c9907287ca"
      },
      "outputs": [
        {
          "ename": "TypeError",
          "evalue": "ignored",
          "output_type": "error",
          "traceback": [
            "\u001b[0;31m---------------------------------------------------------------------------\u001b[0m",
            "\u001b[0;31mTypeError\u001b[0m                                 Traceback (most recent call last)",
            "\u001b[0;32m<ipython-input-11-de032a2f51b8>\u001b[0m in \u001b[0;36m<cell line: 1>\u001b[0;34m()\u001b[0m\n\u001b[0;32m----> 1\u001b[0;31m \u001b[0mprint\u001b[0m\u001b[0;34m(\u001b[0m\u001b[0;36m4\u001b[0m \u001b[0;34m+\u001b[0m \u001b[0;34m\"4\"\u001b[0m\u001b[0;34m)\u001b[0m\u001b[0;34m\u001b[0m\u001b[0;34m\u001b[0m\u001b[0m\n\u001b[0m",
            "\u001b[0;31mTypeError\u001b[0m: unsupported operand type(s) for +: 'int' and 'str'"
          ]
        }
      ],
      "source": [
        "print(4 + \"4\")"
      ]
    },
    {
      "cell_type": "code",
      "execution_count": null,
      "metadata": {
        "colab": {
          "base_uri": "https://localhost:8080/"
        },
        "id": "Fy_MkTRClX6b",
        "outputId": "c04fc28d-6f8a-4290-8b6d-84dd372ed00b"
      },
      "outputs": [
        {
          "name": "stdout",
          "output_type": "stream",
          "text": [
            "8\n",
            "44\n",
            "4.0\n",
            "True\n",
            "True\n",
            "False\n",
            "False\n"
          ]
        }
      ],
      "source": [
        "# Explicit Type Conversion\n",
        "\n",
        "print(4 + int(\"4\"))\n",
        "print(str(4)+\"4\")\n",
        "print(float(4))\n",
        "print(bool(\"shubham\"))\n",
        "print(bool(4))\n",
        "print(bool(\"\"))\n",
        "print(bool(''))"
      ]
    },
    {
      "cell_type": "code",
      "execution_count": null,
      "metadata": {
        "colab": {
          "base_uri": "https://localhost:8080/",
          "height": 193
        },
        "id": "a5IZGpqolnJi",
        "outputId": "a3365b5c-eabc-4b71-a02a-99adf0f304be"
      },
      "outputs": [
        {
          "ename": "TypeError",
          "evalue": "ignored",
          "output_type": "error",
          "traceback": [
            "\u001b[0;31m---------------------------------------------------------------------------\u001b[0m",
            "\u001b[0;31mTypeError\u001b[0m                                 Traceback (most recent call last)",
            "\u001b[0;32m<ipython-input-18-b5736e2d1687>\u001b[0m in \u001b[0;36m<cell line: 1>\u001b[0;34m()\u001b[0m\n\u001b[0;32m----> 1\u001b[0;31m \u001b[0mprint\u001b[0m\u001b[0;34m(\u001b[0m\u001b[0mint\u001b[0m\u001b[0;34m(\u001b[0m\u001b[0;36m4\u001b[0m\u001b[0;34m+\u001b[0m\u001b[0;36m5j\u001b[0m\u001b[0;34m)\u001b[0m\u001b[0;34m)\u001b[0m\u001b[0;34m\u001b[0m\u001b[0;34m\u001b[0m\u001b[0m\n\u001b[0m",
            "\u001b[0;31mTypeError\u001b[0m: int() argument must be a string, a bytes-like object or a real number, not 'complex'"
          ]
        }
      ],
      "source": [
        "print(int(4+5j))"
      ]
    },
    {
      "cell_type": "markdown",
      "metadata": {
        "id": "9H16q1xiphT2"
      },
      "source": [
        "# 7. Literals"
      ]
    },
    {
      "cell_type": "code",
      "execution_count": null,
      "metadata": {
        "colab": {
          "base_uri": "https://localhost:8080/"
        },
        "id": "-QjTqufRplBV",
        "outputId": "302d281d-66da-4310-86fa-eb2431b1f55c"
      },
      "outputs": [
        {
          "name": "stdout",
          "output_type": "stream",
          "text": [
            "(4+6j)\n",
            "4.0\n",
            "6.0\n"
          ]
        }
      ],
      "source": [
        "c = 4+6j\n",
        "print(c)\n",
        "print(c.real)\n",
        "print(c.imag)"
      ]
    },
    {
      "cell_type": "code",
      "execution_count": null,
      "metadata": {
        "colab": {
          "base_uri": "https://localhost:8080/"
        },
        "id": "IMrpb-b2qfX6",
        "outputId": "1b034f3b-053d-49fb-89e0-c5b3e1e03714"
      },
      "outputs": [
        {
          "name": "stdout",
          "output_type": "stream",
          "text": [
            "5\n",
            "10\n"
          ]
        }
      ],
      "source": [
        "a = True + 4\n",
        "b = False + 10\n",
        "print(a)\n",
        "print(b)"
      ]
    },
    {
      "cell_type": "code",
      "execution_count": null,
      "metadata": {
        "colab": {
          "base_uri": "https://localhost:8080/"
        },
        "id": "VR8_jqhXrSMp",
        "outputId": "a548421e-e30a-4ead-b3a8-1f2cafbd5edf"
      },
      "outputs": [
        {
          "name": "stdout",
          "output_type": "stream",
          "text": [
            "None\n",
            "<class 'NoneType'>\n"
          ]
        }
      ],
      "source": [
        "a = None\n",
        "print(a)\n",
        "print(type(a))"
      ]
    },
    {
      "cell_type": "code",
      "execution_count": null,
      "metadata": {
        "colab": {
          "base_uri": "https://localhost:8080/",
          "height": 227
        },
        "id": "-JP7wcINrgow",
        "outputId": "1247aef9-a208-4988-a629-ef0417dec995"
      },
      "outputs": [
        {
          "ename": "NameError",
          "evalue": "ignored",
          "output_type": "error",
          "traceback": [
            "\u001b[0;31m---------------------------------------------------------------------------\u001b[0m",
            "\u001b[0;31mNameError\u001b[0m                                 Traceback (most recent call last)",
            "\u001b[0;32m<ipython-input-36-4247d0fbdcac>\u001b[0m in \u001b[0;36m<cell line: 1>\u001b[0;34m()\u001b[0m\n\u001b[0;32m----> 1\u001b[0;31m \u001b[0mk\u001b[0m\u001b[0;34m\u001b[0m\u001b[0;34m\u001b[0m\u001b[0m\n\u001b[0m\u001b[1;32m      2\u001b[0m \u001b[0ma\u001b[0m \u001b[0;34m=\u001b[0m \u001b[0;36m5\u001b[0m\u001b[0;34m\u001b[0m\u001b[0;34m\u001b[0m\u001b[0m\n\u001b[1;32m      3\u001b[0m \u001b[0mb\u001b[0m \u001b[0;34m=\u001b[0m \u001b[0;36m6\u001b[0m\u001b[0;34m\u001b[0m\u001b[0;34m\u001b[0m\u001b[0m\n\u001b[1;32m      4\u001b[0m \u001b[0mprint\u001b[0m\u001b[0;34m(\u001b[0m\u001b[0ma\u001b[0m\u001b[0;34m+\u001b[0m\u001b[0mb\u001b[0m\u001b[0;34m)\u001b[0m\u001b[0;34m\u001b[0m\u001b[0;34m\u001b[0m\u001b[0m\n",
            "\u001b[0;31mNameError\u001b[0m: name 'k' is not defined"
          ]
        }
      ],
      "source": [
        "k\n",
        "a = 5\n",
        "b = 6\n",
        "print(a+b)"
      ]
    },
    {
      "cell_type": "code",
      "execution_count": null,
      "metadata": {
        "colab": {
          "base_uri": "https://localhost:8080/"
        },
        "id": "wlkF8kWSsBeX",
        "outputId": "9bdb3428-de3f-49d4-99c3-b2a0b1c3d71f"
      },
      "outputs": [
        {
          "name": "stdout",
          "output_type": "stream",
          "text": [
            "11\n"
          ]
        }
      ],
      "source": [
        "k = None\n",
        "a = 5\n",
        "b = 6\n",
        "print(a+b)"
      ]
    },
    {
      "cell_type": "code",
      "execution_count": null,
      "metadata": {
        "id": "RkZUbnLTsHvW"
      },
      "outputs": [],
      "source": []
    }
  ],
  "metadata": {
    "colab": {
      "collapsed_sections": [
        "tHlvLCmtnHRI",
        "TCimiMYX4l2k",
        "AEGh3z0b6-XR",
        "u5QIkY_fApYy"
      ],
      "provenance": []
    },
    "kernelspec": {
      "display_name": "Python 3",
      "name": "python3"
    },
    "language_info": {
      "codemirror_mode": {
        "name": "ipython",
        "version": 3
      },
      "file_extension": ".py",
      "mimetype": "text/x-python",
      "name": "python",
      "nbconvert_exporter": "python",
      "pygments_lexer": "ipython3",
      "version": "3.11.0"
    }
  },
  "nbformat": 4,
  "nbformat_minor": 0
}
