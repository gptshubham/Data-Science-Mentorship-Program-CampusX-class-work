{
  "cells": [
    {
      "cell_type": "markdown",
      "metadata": {},
      "source": [
        "### Sequence sum\n",
        "\n",
        "1/1! + 2/2! + 3/3! + ..."
      ]
    },
    {
      "cell_type": "code",
      "execution_count": 7,
      "metadata": {},
      "outputs": [
        {
          "name": "stdout",
          "output_type": "stream",
          "text": [
            "2.5\n"
          ]
        }
      ],
      "source": [
        "#\n",
        "nth_term = int(input(\"Enter nth Term :\"))\n",
        "#\n",
        "factorial = 1\n",
        "sum = 0\n",
        "#\n",
        "for i in range(1,nth_term+1):\n",
        "    factorial *= i\n",
        "    sum += i/factorial\n",
        "\n",
        "print(sum)"
      ]
    },
    {
      "cell_type": "markdown",
      "metadata": {},
      "source": [
        "# Nested Loops"
      ]
    },
    {
      "cell_type": "code",
      "execution_count": 13,
      "metadata": {},
      "outputs": [
        {
          "name": "stdout",
          "output_type": "stream",
          "text": [
            "1 1\n",
            "1 2\n",
            "1 3\n",
            "1 4\n",
            "2 1\n",
            "2 2\n",
            "2 3\n",
            "2 4\n",
            "3 1\n",
            "3 2\n",
            "3 3\n",
            "3 4\n",
            "4 1\n",
            "4 2\n",
            "4 3\n",
            "4 4\n"
          ]
        }
      ],
      "source": [
        "# Example -> unique pairs\n",
        "# number = input(\"Enter a Number :\")\n",
        "# for i in number:\n",
        "#     for j in number:\n",
        "#         print(i,j)\n",
        "\n",
        "# Alternatively\n",
        "number = int(input(\"Enter a Number :\"))\n",
        "for i in range(1,number+1):\n",
        "    for j in range(1,number+1):\n",
        "        print(i,j)"
      ]
    },
    {
      "cell_type": "markdown",
      "metadata": {},
      "source": [
        "### Pattern 1\n",
        "\n",
        "\n",
        "*<br>\n",
        "** <br>\n",
        "***<br>"
      ]
    },
    {
      "cell_type": "code",
      "execution_count": 5,
      "metadata": {},
      "outputs": [
        {
          "name": "stdout",
          "output_type": "stream",
          "text": [
            "*\n",
            "**\n",
            "***\n",
            "****\n",
            "*****\n"
          ]
        }
      ],
      "source": [
        "# Taking no. of rows as input from user\n",
        "rows = int(input(\"Enter No. of Rows :\"))\n",
        "# nested loop to print the pattern\n",
        "for i in range(1,rows+1):\n",
        "    for j in range(1,i+1):\n",
        "        print('*',end='')\n",
        "    print()"
      ]
    },
    {
      "cell_type": "code",
      "execution_count": 6,
      "metadata": {},
      "outputs": [
        {
          "name": "stdout",
          "output_type": "stream",
          "text": [
            "*\n",
            "**\n",
            "***\n",
            "****\n",
            "*****\n"
          ]
        }
      ],
      "source": [
        "# Alternative Approach\n",
        "# Taking no. of rows as input from user\n",
        "rows = int(input(\"Enter No. of Rows :\"))\n",
        "# Loop to print the pattern\n",
        "for i in range(1,rows+1):\n",
        "    print('*' * i)"
      ]
    },
    {
      "cell_type": "markdown",
      "metadata": {},
      "source": [
        "### Pattern 2\n",
        "\n",
        "1<br>\n",
        "121<br>\n",
        "12321<br>\n",
        "1234321<br>"
      ]
    },
    {
      "cell_type": "code",
      "execution_count": 27,
      "metadata": {},
      "outputs": [
        {
          "name": "stdout",
          "output_type": "stream",
          "text": [
            "1\n",
            "121\n",
            "12321\n",
            "1234321\n",
            "123454321\n"
          ]
        }
      ],
      "source": [
        "#\n",
        "raw = int(input(\"Enter the No. of Raws :\"))\n",
        "for i in range(1,raw+1):\n",
        "    for j in range(1,i+1):\n",
        "        print(j,end='')\n",
        "    for k in range(i-1,0,-1):\n",
        "        print(k,end='')\n",
        "    print()"
      ]
    },
    {
      "cell_type": "markdown",
      "metadata": {},
      "source": [
        "# Loop Control Statement\n",
        "\n",
        "- Break\n",
        "- Continue\n",
        "- Pass"
      ]
    },
    {
      "cell_type": "code",
      "execution_count": 28,
      "metadata": {},
      "outputs": [
        {
          "name": "stdout",
          "output_type": "stream",
          "text": [
            "1\n",
            "2\n",
            "3\n",
            "4\n"
          ]
        }
      ],
      "source": [
        "# break\n",
        "for i in range(1,10):\n",
        "    if i == 5:\n",
        "        break\n",
        "    print(i)"
      ]
    },
    {
      "cell_type": "code",
      "execution_count": 30,
      "metadata": {},
      "outputs": [
        {
          "name": "stdout",
          "output_type": "stream",
          "text": [
            "101,103,107,109,113,127,131,137,139,149,151,157,163,167,173,179,181,191,193,197,199,"
          ]
        }
      ],
      "source": [
        "#Example - Break\n",
        "#\n",
        "lowar_range = int(input(\"Enter Lowar Range :\"))\n",
        "upper_range = int(input(\"Enter Upper Range :\"))\n",
        "#\n",
        "for i in range(lowar_range,upper_range+1):\n",
        "    for j in range(2,i):\n",
        "        if i%j == 0:\n",
        "            break\n",
        "    else:\n",
        "        print(i,end=',')"
      ]
    },
    {
      "cell_type": "code",
      "execution_count": 31,
      "metadata": {},
      "outputs": [
        {
          "name": "stdout",
          "output_type": "stream",
          "text": [
            "1\n",
            "2\n",
            "3\n",
            "4\n",
            "6\n",
            "7\n",
            "8\n",
            "9\n",
            "10\n"
          ]
        }
      ],
      "source": [
        "# continue\n",
        "for i in range(1,11):\n",
        "    if i == 5:\n",
        "        continue\n",
        "    print(i)"
      ]
    },
    {
      "cell_type": "code",
      "execution_count": 32,
      "metadata": {},
      "outputs": [],
      "source": [
        "# pass\n",
        "for i in range(1,10):\n",
        "    pass"
      ]
    },
    {
      "cell_type": "markdown",
      "metadata": {},
      "source": [
        "# String"
      ]
    },
    {
      "cell_type": "markdown",
      "metadata": {},
      "source": [
        "Strings are sequence of Characters\n",
        "\n",
        "In Python specifically, strings are a sequence of Unicode Characters\n",
        "\n",
        "- Creating Strings\n",
        "- Accessing Strings\n",
        "- Adding Chars to Strings\n",
        "- Editing Strings\n",
        "- Deleting Strings\n",
        "- Operations on Strings\n",
        "- String Functions"
      ]
    },
    {
      "cell_type": "markdown",
      "metadata": {},
      "source": [
        "### Creating Strings"
      ]
    },
    {
      "cell_type": "code",
      "execution_count": 35,
      "metadata": {},
      "outputs": [
        {
          "name": "stdout",
          "output_type": "stream",
          "text": [
            "shubham\n",
            "shubham's birhtday is on 6th of March\n",
            "Multi\n",
            "line\n",
            "string\n",
            "123 <class 'str'>\n"
          ]
        }
      ],
      "source": [
        "name = 'shubham'\n",
        "print(name)\n",
        "birthDay = \"shubham's birhtday is on 6th of March\"\n",
        "print(birthDay)\n",
        "print(\"\"\"Multi\n",
        "line\n",
        "string\"\"\")\n",
        "roleNo = str(123)\n",
        "print(roleNo,type(roleNo))"
      ]
    },
    {
      "cell_type": "markdown",
      "metadata": {},
      "source": [
        "### Accessing Substrings from a String\n",
        "* Indexing\n",
        "* Slicing"
      ]
    },
    {
      "cell_type": "code",
      "execution_count": 41,
      "metadata": {},
      "outputs": [
        {
          "name": "stdout",
          "output_type": "stream",
          "text": [
            "S\n",
            "h\n",
            "b\n",
            "K\n"
          ]
        },
        {
          "ename": "IndexError",
          "evalue": "string index out of range",
          "output_type": "error",
          "traceback": [
            "\u001b[1;31m---------------------------------------------------------------------------\u001b[0m",
            "\u001b[1;31mIndexError\u001b[0m                                Traceback (most recent call last)",
            "\u001b[1;32me:\\Data-Science-Mentorship-Program\\class-work\\DSMP_S3_strings_lists_classwork.ipynb Cell 19\u001b[0m line \u001b[0;36m7\n\u001b[0;32m      <a href='vscode-notebook-cell:/e%3A/Data-Science-Mentorship-Program/class-work/DSMP_S3_strings_lists_classwork.ipynb#X30sZmlsZQ%3D%3D?line=4'>5</a>\u001b[0m \u001b[39mprint\u001b[39m(s[\u001b[39m3\u001b[39m])\n\u001b[0;32m      <a href='vscode-notebook-cell:/e%3A/Data-Science-Mentorship-Program/class-work/DSMP_S3_strings_lists_classwork.ipynb#X30sZmlsZQ%3D%3D?line=5'>6</a>\u001b[0m \u001b[39mprint\u001b[39m(s[\u001b[39m8\u001b[39m])\n\u001b[1;32m----> <a href='vscode-notebook-cell:/e%3A/Data-Science-Mentorship-Program/class-work/DSMP_S3_strings_lists_classwork.ipynb#X30sZmlsZQ%3D%3D?line=6'>7</a>\u001b[0m \u001b[39mprint\u001b[39m(s[\u001b[39m41\u001b[39;49m])\n",
            "\u001b[1;31mIndexError\u001b[0m: string index out of range"
          ]
        }
      ],
      "source": [
        "#Positibe Indexing\n",
        "s = \"Shubham Kumar Gupta\"\n",
        "print(s[0])\n",
        "print(s[1])\n",
        "print(s[3])\n",
        "print(s[8])\n",
        "print(s[41])"
      ]
    },
    {
      "cell_type": "code",
      "execution_count": 46,
      "metadata": {},
      "outputs": [
        {
          "name": "stdout",
          "output_type": "stream",
          "text": [
            "atpug ramuk mahbuhs\n",
            "a\n",
            "t\n",
            "p\n"
          ]
        }
      ],
      "source": [
        "# Negative Indexing\n",
        "s = \"shubham kumar gupta\"\n",
        "print(s[-1])\n",
        "print(s[-2])\n",
        "print(s[-3])\n"
      ]
    },
    {
      "cell_type": "code",
      "execution_count": 5,
      "metadata": {},
      "outputs": [
        {
          "name": "stdout",
          "output_type": "stream",
          "text": [
            "kumar\n"
          ]
        }
      ],
      "source": [
        "# Slicing\n",
        "s = \"shubham kumar gupta\"\n",
        "print(s[8:13])"
      ]
    },
    {
      "cell_type": "code",
      "execution_count": 6,
      "metadata": {},
      "outputs": [
        {
          "name": "stdout",
          "output_type": "stream",
          "text": [
            "kmr\n"
          ]
        }
      ],
      "source": [
        "# slicing with stepsize\n",
        "s = \"shubham kumar gupta\"\n",
        "print(s[8:13:2])"
      ]
    },
    {
      "cell_type": "code",
      "execution_count": 11,
      "metadata": {},
      "outputs": [
        {
          "name": "stdout",
          "output_type": "stream",
          "text": [
            "ham kumar gupta\n",
            "shubham kumar\n"
          ]
        }
      ],
      "source": [
        "print(s[4:])\n",
        "print(s[:13])"
      ]
    },
    {
      "cell_type": "code",
      "execution_count": 20,
      "metadata": {},
      "outputs": [
        {
          "name": "stdout",
          "output_type": "stream",
          "text": [
            " ramuk\n",
            " mahbuhs\n",
            "atpug ramuk mahbuhs\n"
          ]
        }
      ],
      "source": [
        "# Slicing with negative indexing\n",
        "s = \"shubham kumar gupta\"\n",
        "print(s[13:7:-1])\n",
        "print(s[7::-1])\n",
        "print(s[::-1])"
      ]
    },
    {
      "cell_type": "code",
      "execution_count": 24,
      "metadata": {},
      "outputs": [
        {
          "name": "stdout",
          "output_type": "stream",
          "text": [
            "atpug\n",
            "gupta\n"
          ]
        }
      ],
      "source": [
        "s = \"shubham kumar gupta\"\n",
        "print(s[-1:-6:-1])\n",
        "print(s[-5:])"
      ]
    },
    {
      "cell_type": "markdown",
      "metadata": {},
      "source": [
        "### Editing and Deleting String"
      ]
    },
    {
      "cell_type": "code",
      "execution_count": null,
      "metadata": {},
      "outputs": [],
      "source": [
        "# Editing --> Python strings are immutable and can not be edited."
      ]
    },
    {
      "cell_type": "code",
      "execution_count": 25,
      "metadata": {},
      "outputs": [
        {
          "name": "stdout",
          "output_type": "stream",
          "text": [
            "Pakistan\n"
          ]
        }
      ],
      "source": [
        "# deleting a string --> not deleted at memory level.\n",
        "z = \"Pakistan\"\n",
        "print(z)"
      ]
    },
    {
      "cell_type": "code",
      "execution_count": 26,
      "metadata": {},
      "outputs": [],
      "source": [
        "del z"
      ]
    },
    {
      "cell_type": "code",
      "execution_count": 27,
      "metadata": {},
      "outputs": [
        {
          "ename": "NameError",
          "evalue": "name 'z' is not defined",
          "output_type": "error",
          "traceback": [
            "\u001b[1;31m---------------------------------------------------------------------------\u001b[0m",
            "\u001b[1;31mNameError\u001b[0m                                 Traceback (most recent call last)",
            "\u001b[1;32me:\\Data-Science-Mentorship-Program\\class-work\\DSMP_S3_strings_lists_classwork.ipynb Cell 31\u001b[0m line \u001b[0;36m1\n\u001b[1;32m----> <a href='vscode-notebook-cell:/e%3A/Data-Science-Mentorship-Program/class-work/DSMP_S3_strings_lists_classwork.ipynb#X43sZmlsZQ%3D%3D?line=0'>1</a>\u001b[0m \u001b[39mprint\u001b[39m(z)\n",
            "\u001b[1;31mNameError\u001b[0m: name 'z' is not defined"
          ]
        }
      ],
      "source": [
        "print(z)"
      ]
    },
    {
      "cell_type": "code",
      "execution_count": 28,
      "metadata": {},
      "outputs": [
        {
          "ename": "TypeError",
          "evalue": "'str' object does not support item deletion",
          "output_type": "error",
          "traceback": [
            "\u001b[1;31m---------------------------------------------------------------------------\u001b[0m",
            "\u001b[1;31mTypeError\u001b[0m                                 Traceback (most recent call last)",
            "\u001b[1;32me:\\Data-Science-Mentorship-Program\\class-work\\DSMP_S3_strings_lists_classwork.ipynb Cell 32\u001b[0m line \u001b[0;36m2\n\u001b[0;32m      <a href='vscode-notebook-cell:/e%3A/Data-Science-Mentorship-Program/class-work/DSMP_S3_strings_lists_classwork.ipynb#X44sZmlsZQ%3D%3D?line=0'>1</a>\u001b[0m y \u001b[39m=\u001b[39m \u001b[39m\"\u001b[39m\u001b[39mIndia\u001b[39m\u001b[39m\"\u001b[39m\n\u001b[1;32m----> <a href='vscode-notebook-cell:/e%3A/Data-Science-Mentorship-Program/class-work/DSMP_S3_strings_lists_classwork.ipynb#X44sZmlsZQ%3D%3D?line=1'>2</a>\u001b[0m \u001b[39mdel\u001b[39;00m y[\u001b[39m2\u001b[39;49m:\u001b[39m4\u001b[39;49m]\n",
            "\u001b[1;31mTypeError\u001b[0m: 'str' object does not support item deletion"
          ]
        }
      ],
      "source": [
        "y = \"India\"\n",
        "del y[2:4]"
      ]
    },
    {
      "cell_type": "markdown",
      "metadata": {},
      "source": [
        "### Operations on Strings\n",
        "\n",
        "- Arithmetic Operations\n",
        "- Relational Operations\n",
        "- Logical Operations\n",
        "- Loops on Strings\n",
        "- Membership Operations"
      ]
    },
    {
      "cell_type": "markdown",
      "metadata": {},
      "source": [
        "##### Arithmetic Operators"
      ]
    },
    {
      "cell_type": "code",
      "execution_count": 30,
      "metadata": {},
      "outputs": [
        {
          "name": "stdout",
          "output_type": "stream",
          "text": [
            "Shubham Gupta\n"
          ]
        }
      ],
      "source": [
        "first_name = \"Shubham\"\n",
        "last_name  = \"Gupta\"\n",
        "print(first_name +' '+ last_name)\n",
        "# + --> string concatination"
      ]
    },
    {
      "cell_type": "code",
      "execution_count": 33,
      "metadata": {},
      "outputs": [
        {
          "name": "stdout",
          "output_type": "stream",
          "text": [
            "ShubhamShubhamShubhamShubhamShubham \n"
          ]
        }
      ],
      "source": [
        "print(first_name * 5)"
      ]
    },
    {
      "cell_type": "markdown",
      "metadata": {},
      "source": [
        "##### Relational Operators"
      ]
    },
    {
      "cell_type": "code",
      "execution_count": 36,
      "metadata": {},
      "outputs": [
        {
          "name": "stdout",
          "output_type": "stream",
          "text": [
            "True\n"
          ]
        }
      ],
      "source": [
        "print(first_name>last_name)\n",
        "# jo baad me aayega wo bada hoga from ASCII value point of view (Lexiographically Campaired)"
      ]
    },
    {
      "cell_type": "code",
      "execution_count": 35,
      "metadata": {},
      "outputs": [
        {
          "name": "stdout",
          "output_type": "stream",
          "text": [
            "False\n"
          ]
        }
      ],
      "source": [
        "print(first_name==last_name)"
      ]
    },
    {
      "cell_type": "code",
      "execution_count": 37,
      "metadata": {},
      "outputs": [
        {
          "name": "stdout",
          "output_type": "stream",
          "text": [
            "False\n"
          ]
        }
      ],
      "source": [
        "print('Shubham'>'shubham')\n",
        "# ASCII value of 'S' is smaller than that of 's'"
      ]
    },
    {
      "cell_type": "markdown",
      "metadata": {},
      "source": [
        "##### Logical Operators"
      ]
    },
    {
      "cell_type": "code",
      "execution_count": 40,
      "metadata": {},
      "outputs": [
        {
          "name": "stdout",
          "output_type": "stream",
          "text": [
            "Gupta\n",
            "Shubham\n",
            "False\n"
          ]
        }
      ],
      "source": [
        "print(first_name and last_name)\n",
        "print(first_name or last_name)\n",
        "print( not first_name)"
      ]
    },
    {
      "cell_type": "code",
      "execution_count": 46,
      "metadata": {},
      "outputs": [
        {
          "name": "stdout",
          "output_type": "stream",
          "text": [
            "True\n",
            "False\n",
            "\n",
            "shubham\n"
          ]
        }
      ],
      "source": [
        "print(not '')\n",
        "print(not ' ')\n",
        "print('' and 'shubham')\n",
        "print('' or 'shubham')"
      ]
    },
    {
      "cell_type": "markdown",
      "metadata": {},
      "source": [
        "##### Iteration"
      ]
    },
    {
      "cell_type": "code",
      "execution_count": 48,
      "metadata": {},
      "outputs": [
        {
          "name": "stdout",
          "output_type": "stream",
          "text": [
            "I\n",
            "n\n",
            "d\n",
            "i\n",
            "a\n"
          ]
        }
      ],
      "source": [
        "y = \"India\"\n",
        "for i in y :\n",
        "    print(i)"
      ]
    },
    {
      "cell_type": "markdown",
      "metadata": {},
      "source": [
        "##### Membership Operators"
      ]
    },
    {
      "cell_type": "code",
      "execution_count": 49,
      "metadata": {},
      "outputs": [
        {
          "data": {
            "text/plain": [
              "True"
            ]
          },
          "execution_count": 49,
          "metadata": {},
          "output_type": "execute_result"
        }
      ],
      "source": [
        "y = \"India\"\n",
        "'I' in y"
      ]
    },
    {
      "cell_type": "code",
      "execution_count": 51,
      "metadata": {},
      "outputs": [
        {
          "data": {
            "text/plain": [
              "False"
            ]
          },
          "execution_count": 51,
          "metadata": {},
          "output_type": "execute_result"
        }
      ],
      "source": [
        "'i' not in y"
      ]
    },
    {
      "cell_type": "markdown",
      "metadata": {},
      "source": [
        "# String Functions"
      ]
    },
    {
      "cell_type": "markdown",
      "metadata": {},
      "source": [
        "### Common Functions\n",
        "works with string,tuple,sets,dictionaries\n",
        "* len\n",
        "* max\n",
        "* min\n",
        "* sorted"
      ]
    },
    {
      "cell_type": "code",
      "execution_count": 52,
      "metadata": {},
      "outputs": [
        {
          "name": "stdout",
          "output_type": "stream",
          "text": [
            "19\n"
          ]
        }
      ],
      "source": [
        "# len()\n",
        "s = \"shubham kumar gupta\"\n",
        "print(len(s))"
      ]
    },
    {
      "cell_type": "code",
      "execution_count": 53,
      "metadata": {},
      "outputs": [
        {
          "name": "stdout",
          "output_type": "stream",
          "text": [
            "u\n"
          ]
        }
      ],
      "source": [
        "# max()\n",
        "print(max(s))"
      ]
    },
    {
      "cell_type": "code",
      "execution_count": 55,
      "metadata": {},
      "outputs": [
        {
          "name": "stdout",
          "output_type": "stream",
          "text": [
            "a\n"
          ]
        }
      ],
      "source": [
        "# min()\n",
        "print(min(s[0:6]))"
      ]
    },
    {
      "cell_type": "code",
      "execution_count": 56,
      "metadata": {},
      "outputs": [
        {
          "name": "stdout",
          "output_type": "stream",
          "text": [
            "[' ', ' ', 'a', 'a', 'a', 'b', 'g', 'h', 'h', 'k', 'm', 'm', 'p', 'r', 's', 't', 'u', 'u', 'u']\n"
          ]
        }
      ],
      "source": [
        "# sorted\n",
        "print(sorted(s))"
      ]
    },
    {
      "cell_type": "code",
      "execution_count": 57,
      "metadata": {},
      "outputs": [
        {
          "name": "stdout",
          "output_type": "stream",
          "text": [
            "['u', 'u', 'u', 't', 's', 'r', 'p', 'm', 'm', 'k', 'h', 'h', 'g', 'b', 'a', 'a', 'a', ' ', ' ']\n"
          ]
        }
      ],
      "source": [
        "print(sorted(s,reverse=True))"
      ]
    },
    {
      "cell_type": "markdown",
      "metadata": {},
      "source": [
        "### Capitalize/Title/Upper/Lower/Swapcase"
      ]
    },
    {
      "cell_type": "code",
      "execution_count": 46,
      "metadata": {},
      "outputs": [
        {
          "name": "stdout",
          "output_type": "stream",
          "text": [
            "Shubham kumar gupta\n",
            "shubham kumar gupta\n"
          ]
        }
      ],
      "source": [
        "s = \"shubham kumar gupta\"\n",
        "print(s.capitalize())\n",
        "print(s)"
      ]
    },
    {
      "cell_type": "markdown",
      "metadata": {},
      "source": []
    },
    {
      "cell_type": "code",
      "execution_count": 47,
      "metadata": {},
      "outputs": [
        {
          "name": "stdout",
          "output_type": "stream",
          "text": [
            "Shubham Kumar Gupta\n",
            "shubham kumar gupta\n"
          ]
        }
      ],
      "source": [
        "s = \"shubham kumar gupta\"\n",
        "print(s.title())\n",
        "print(s)"
      ]
    },
    {
      "cell_type": "code",
      "execution_count": 48,
      "metadata": {},
      "outputs": [
        {
          "name": "stdout",
          "output_type": "stream",
          "text": [
            "SHUBHAM KUMAR GUPTA\n",
            "shubham kumar gupta\n"
          ]
        }
      ],
      "source": [
        "s = \"shubham kumar gupta\"\n",
        "print(s.upper())\n",
        "print(s)"
      ]
    },
    {
      "cell_type": "code",
      "execution_count": 49,
      "metadata": {},
      "outputs": [
        {
          "name": "stdout",
          "output_type": "stream",
          "text": [
            "shubham kumar gupta\n",
            "SHUBHAM KUMAR GUPTA\n"
          ]
        }
      ],
      "source": [
        "s = \"SHUBHAM KUMAR GUPTA\"\n",
        "print(s.lower())\n",
        "print(s)"
      ]
    },
    {
      "cell_type": "code",
      "execution_count": 50,
      "metadata": {},
      "outputs": [
        {
          "name": "stdout",
          "output_type": "stream",
          "text": [
            "ShuBHaM\n",
            "sHUbhAm\n"
          ]
        }
      ],
      "source": [
        "s = \"sHUbhAm\"\n",
        "print(s.swapcase())\n",
        "print(s)"
      ]
    },
    {
      "cell_type": "markdown",
      "metadata": {},
      "source": [
        "### Count/Find/Index"
      ]
    },
    {
      "cell_type": "code",
      "execution_count": 9,
      "metadata": {},
      "outputs": [
        {
          "name": "stdout",
          "output_type": "stream",
          "text": [
            "3\n",
            "3\n",
            "1\n",
            "1\n"
          ]
        }
      ],
      "source": [
        "s = \"shubham kumar gupta\"\n",
        "print(s.count('a'))\n",
        "print(s.count('u'))\n",
        "print(s.count('ku'))\n",
        "print(s.count('kumar'))"
      ]
    },
    {
      "cell_type": "code",
      "execution_count": 20,
      "metadata": {},
      "outputs": [
        {
          "name": "stdout",
          "output_type": "stream",
          "text": [
            "14\n",
            "g\n",
            "5\n",
            "a\n",
            "6\n",
            "m\n",
            "-1\n",
            "-1\n"
          ]
        }
      ],
      "source": [
        "s = \"shubham kumar gupta\"\n",
        "print(s.find('g'))\n",
        "print(s[14])\n",
        "print(s.find('a'))\n",
        "print(s[5])\n",
        "print(s.find('m'))\n",
        "print(s[6])\n",
        "print(s.find('j'))\n",
        "print(s.find('l'))"
      ]
    },
    {
      "cell_type": "code",
      "execution_count": 21,
      "metadata": {},
      "outputs": [
        {
          "name": "stdout",
          "output_type": "stream",
          "text": [
            "14\n",
            "5\n"
          ]
        },
        {
          "ename": "ValueError",
          "evalue": "substring not found",
          "output_type": "error",
          "traceback": [
            "\u001b[1;31m---------------------------------------------------------------------------\u001b[0m",
            "\u001b[1;31mValueError\u001b[0m                                Traceback (most recent call last)",
            "\u001b[1;32me:\\Data-Science-Mentorship-Program\\class-work\\DSMP_S3_strings_lists_classwork.ipynb Cell 66\u001b[0m line \u001b[0;36m4\n\u001b[0;32m      <a href='vscode-notebook-cell:/e%3A/Data-Science-Mentorship-Program/class-work/DSMP_S3_strings_lists_classwork.ipynb#Y122sZmlsZQ%3D%3D?line=1'>2</a>\u001b[0m \u001b[39mprint\u001b[39m(s\u001b[39m.\u001b[39mindex(\u001b[39m'\u001b[39m\u001b[39mg\u001b[39m\u001b[39m'\u001b[39m))\n\u001b[0;32m      <a href='vscode-notebook-cell:/e%3A/Data-Science-Mentorship-Program/class-work/DSMP_S3_strings_lists_classwork.ipynb#Y122sZmlsZQ%3D%3D?line=2'>3</a>\u001b[0m \u001b[39mprint\u001b[39m(s\u001b[39m.\u001b[39mindex(\u001b[39m'\u001b[39m\u001b[39ma\u001b[39m\u001b[39m'\u001b[39m))\n\u001b[1;32m----> <a href='vscode-notebook-cell:/e%3A/Data-Science-Mentorship-Program/class-work/DSMP_S3_strings_lists_classwork.ipynb#Y122sZmlsZQ%3D%3D?line=3'>4</a>\u001b[0m \u001b[39mprint\u001b[39m(s\u001b[39m.\u001b[39;49mindex(\u001b[39m'\u001b[39;49m\u001b[39mj\u001b[39;49m\u001b[39m'\u001b[39;49m))\n",
            "\u001b[1;31mValueError\u001b[0m: substring not found"
          ]
        }
      ],
      "source": [
        "s = \"shubham kumar gupta\"\n",
        "print(s.index('g'))\n",
        "print(s.index('a'))\n",
        "print(s.index('j'))"
      ]
    },
    {
      "cell_type": "markdown",
      "metadata": {},
      "source": [
        "### endswith/startswith"
      ]
    },
    {
      "cell_type": "code",
      "execution_count": 26,
      "metadata": {},
      "outputs": [
        {
          "name": "stdout",
          "output_type": "stream",
          "text": [
            "False\n",
            "True\n",
            "True\n"
          ]
        }
      ],
      "source": [
        "s = \"shubham kumar gupta\"\n",
        "print(s.endswith('s'))\n",
        "print(s.endswith('a'))\n",
        "print(s.endswith('gupta'))"
      ]
    },
    {
      "cell_type": "code",
      "execution_count": 27,
      "metadata": {},
      "outputs": [
        {
          "name": "stdout",
          "output_type": "stream",
          "text": [
            "False\n",
            "True\n",
            "True\n"
          ]
        }
      ],
      "source": [
        "s = \"shubham kumar gupta\"\n",
        "print(s.startswith('k'))\n",
        "print(s.startswith('s'))\n",
        "print(s.startswith('shubh'))"
      ]
    },
    {
      "cell_type": "markdown",
      "metadata": {},
      "source": [
        "### format"
      ]
    },
    {
      "cell_type": "code",
      "execution_count": 28,
      "metadata": {},
      "outputs": [
        {
          "name": "stdout",
          "output_type": "stream",
          "text": [
            "my name is shubham kumar gupta and I am 22 years old.\n"
          ]
        }
      ],
      "source": [
        "name = 'shubham kumar gupta'\n",
        "age = 22\n",
        "intro = \"my name is {} and I am {} years old.\"\n",
        "print(intro.format(name,age))\n",
        "# can have any number of arguments."
      ]
    },
    {
      "cell_type": "code",
      "execution_count": 30,
      "metadata": {},
      "outputs": [
        {
          "name": "stdout",
          "output_type": "stream",
          "text": [
            "my name is shubham kumar gupta and I am 22 years old.\n"
          ]
        }
      ],
      "source": [
        "name = 'shubham kumar gupta'\n",
        "age = 22\n",
        "intro = \"my name is {} and I am {} years old.\".format(name,age)\n",
        "print(intro)"
      ]
    },
    {
      "cell_type": "code",
      "execution_count": 31,
      "metadata": {},
      "outputs": [
        {
          "name": "stdout",
          "output_type": "stream",
          "text": [
            "my name is 22 and I am shubham kumar gupta years old.\n"
          ]
        }
      ],
      "source": [
        "name = 'shubham kumar gupta'\n",
        "age = 22\n",
        "intro = \"my name is {} and I am {} years old.\".format(age,name)\n",
        "print(intro)"
      ]
    },
    {
      "cell_type": "code",
      "execution_count": 32,
      "metadata": {},
      "outputs": [
        {
          "name": "stdout",
          "output_type": "stream",
          "text": [
            "my name is shubham kumar gupta and I am 22 years old.\n"
          ]
        }
      ],
      "source": [
        "intro = \"my name is {1} and I am {0} years old.\".format(age,name)\n",
        "print(intro)\n"
      ]
    },
    {
      "cell_type": "markdown",
      "metadata": {},
      "source": [
        "### isalnum/ isalpha/ isdigit/ isidentifier"
      ]
    },
    {
      "cell_type": "code",
      "execution_count": 38,
      "metadata": {},
      "outputs": [
        {
          "name": "stdout",
          "output_type": "stream",
          "text": [
            "False\n",
            "False\n",
            "False\n",
            "False\n"
          ]
        }
      ],
      "source": [
        "name = 'shubham kumar gupta'\n",
        "print(name.isalpha())\n",
        "print(name.isalnum())\n",
        "print(intro.isalnum())\n",
        "print(intro.isalpha())"
      ]
    },
    {
      "cell_type": "code",
      "execution_count": 56,
      "metadata": {},
      "outputs": [
        {
          "name": "stdout",
          "output_type": "stream",
          "text": [
            "True\n",
            "True\n",
            "True\n",
            "True\n",
            "True\n",
            "True\n",
            "False\n",
            "False\n",
            "False\n"
          ]
        }
      ],
      "source": [
        "name = 'shubhamkumargupta'\n",
        "print(name.isalpha())\n",
        "name = 'shubhamkumargupta123'\n",
        "print(name.isalnum())\n",
        "age = '22'\n",
        "print(age.isdigit())\n",
        "print('name'.isidentifier())\n",
        "print('age'.isidentifier())\n",
        "print('intro'.isidentifier())\n",
        "print('first-name'.isidentifier())\n",
        "print('first@name'.isidentifier())\n",
        "print('1name'.isidentifier())"
      ]
    },
    {
      "cell_type": "markdown",
      "metadata": {},
      "source": [
        "### Split/Join"
      ]
    },
    {
      "cell_type": "code",
      "execution_count": 59,
      "metadata": {},
      "outputs": [
        {
          "name": "stdout",
          "output_type": "stream",
          "text": [
            "['shubham', 'kumar', 'gupta']\n",
            "['shubhamkumargupta']\n",
            "['shubh', 'mkum', 'rgupt', '']\n"
          ]
        }
      ],
      "source": [
        "name = 'shubham kumar gupta'\n",
        "print(name.split())\n",
        "name = 'shubhamkumargupta'\n",
        "print(name.split())\n",
        "print(name.split('a'))\n"
      ]
    },
    {
      "cell_type": "code",
      "execution_count": 65,
      "metadata": {},
      "outputs": [
        {
          "name": "stdout",
          "output_type": "stream",
          "text": [
            "['shubham', 'kumar', 'gupta']\n",
            "shubhamkumargupta\n",
            "shubham kumar gupta\n",
            "shubham-kumar-gupta\n",
            "shubham_kumar_gupta\n"
          ]
        }
      ],
      "source": [
        "name = 'shubham kumar gupta'\n",
        "name2 = name.split()\n",
        "print(name2)\n",
        "print(''.join(name2))\n",
        "print(' '.join(name2))\n",
        "print('-'.join(name2))\n",
        "print('_'.join(name2))"
      ]
    },
    {
      "cell_type": "markdown",
      "metadata": {},
      "source": [
        "### Raplace"
      ]
    },
    {
      "cell_type": "code",
      "execution_count": 72,
      "metadata": {},
      "outputs": [
        {
          "name": "stdout",
          "output_type": "stream",
          "text": [
            "my name is shubham and I am shubham kumar gupta years old.\n",
            "my name is shubham and I am 22 years old.\n"
          ]
        }
      ],
      "source": [
        "intro = 'my name is 22 and I am shubham kumar gupta years old.'.replace('22','shubham')\n",
        "print(intro)\n",
        "intro = intro.replace('shubham kumar gupta','22')\n",
        "print(intro)"
      ]
    },
    {
      "cell_type": "code",
      "execution_count": 73,
      "metadata": {},
      "outputs": [
        {
          "name": "stdout",
          "output_type": "stream",
          "text": [
            "my name is shubham and I am 22 years old.\n"
          ]
        }
      ],
      "source": [
        "print(intro.replace('jha','singh'))"
      ]
    },
    {
      "cell_type": "markdown",
      "metadata": {},
      "source": [
        "### Strip"
      ]
    },
    {
      "cell_type": "code",
      "execution_count": 79,
      "metadata": {},
      "outputs": [
        {
          "name": "stdout",
          "output_type": "stream",
          "text": [
            "shubham            kumar                   gupta\n",
            "shubham            kumar                   gupta\n"
          ]
        }
      ],
      "source": [
        "name = 'shubham            kumar                   gupta'\n",
        "print(name)\n",
        "print(name.strip())"
      ]
    },
    {
      "cell_type": "code",
      "execution_count": 9,
      "metadata": {},
      "outputs": [
        {
          "name": "stdout",
          "output_type": "stream",
          "text": [
            "shubham                  \n",
            "shubham                             kumar\n",
            "shubham kumar\n"
          ]
        }
      ],
      "source": [
        "name = 'shubham                  '\n",
        "sur_name = '           kumar'\n",
        "print(name)\n",
        "print(name + sur_name)\n",
        "print(name.strip() +' '+ sur_name.strip())"
      ]
    },
    {
      "cell_type": "markdown",
      "metadata": {},
      "source": [
        "## Example Problems"
      ]
    },
    {
      "cell_type": "code",
      "execution_count": 11,
      "metadata": {},
      "outputs": [
        {
          "name": "stdout",
          "output_type": "stream",
          "text": [
            "The length of shubham is 7\n"
          ]
        }
      ],
      "source": [
        "# Find the length of a given string without using the len() function\n",
        "#\n",
        "s = input(\"Enter a String: \")\n",
        "#\n",
        "counter = 0\n",
        "for i in s:\n",
        "    counter+=1\n",
        "#\n",
        "print(\"The length of\",s,\"is\",counter)"
      ]
    },
    {
      "cell_type": "code",
      "execution_count": 16,
      "metadata": {},
      "outputs": [
        {
          "name": "stdout",
          "output_type": "stream",
          "text": [
            "shubham@gmail.com\n",
            "shubham\n",
            "shubham\n"
          ]
        }
      ],
      "source": [
        "# Extract username from a given email. \n",
        "# Eg if the email is nitish24singh@gmail.com \n",
        "# then the username should be nitish24singh\n",
        "#\n",
        "email = input(\"Enter Your Email: \")\n",
        "print(email)\n",
        "#\n",
        "user_name = (email.split('@'))[0]\n",
        "#\n",
        "print(user_name)\n",
        "# Alternativly using for loop\n",
        "user = ''\n",
        "for i in email:\n",
        "    if i == \"@\":\n",
        "        break\n",
        "    else:\n",
        "        user += i\n",
        "#\n",
        "print(user)"
      ]
    },
    {
      "cell_type": "code",
      "execution_count": 15,
      "metadata": {},
      "outputs": [
        {
          "name": "stdout",
          "output_type": "stream",
          "text": [
            "The frequency of h in shubham kumar gupta is 2\n",
            "The frequency of h in shubham kumar gupta is 2\n"
          ]
        }
      ],
      "source": [
        "# Count the frequency of a particular character in a provided string. \n",
        "# Eg 'hello how are you' is the string, the frequency of h in this string is 2.\n",
        "#\n",
        "s = input(\"Enter a String: \")\n",
        "term = input(\"Enter the Character to Count: \")\n",
        "#\n",
        "freq = s.count(term)\n",
        "#\n",
        "print(\"The frequency of\",term,\"in\",s,\"is\",freq)\n",
        "#Alternatively using for loop\n",
        "#\n",
        "counter = 0\n",
        "#\n",
        "for i in s:\n",
        "    if i == term:\n",
        "        counter += 1\n",
        "#\n",
        "print(\"The frequency of\",term,\"in\",s,\"is\",counter)"
      ]
    },
    {
      "cell_type": "code",
      "execution_count": 27,
      "metadata": {},
      "outputs": [
        {
          "name": "stdout",
          "output_type": "stream",
          "text": [
            "string:  shubham kumar gupta\n",
            "term:  a\n",
            "result:  shubhm kumr gupt\n",
            "result:  shubhm kumr gupt\n",
            "result:  shubhm kumr gupt\n"
          ]
        }
      ],
      "source": [
        "# Write a program which can remove a particular character from a string.\n",
        "#\n",
        "s = input(\"Enter a String: \")\n",
        "term = input(\"Enter the character to remove: \")\n",
        "#\n",
        "new_s = s.split(term)\n",
        "#\n",
        "result = ''.join(new_s)\n",
        "#\n",
        "print('string: ',s)\n",
        "print('term: ',term)\n",
        "print('result: ',result)\n",
        "# Alternatively using for loop with continue\n",
        "#\n",
        "result = ''\n",
        "for i in s:\n",
        "    if i == term:\n",
        "        continue\n",
        "    else:\n",
        "        result += i\n",
        "# \n",
        "print('result: ',result)\n",
        "#Alternatively - using for loop without continue\n",
        "result = ''\n",
        "for i in s:\n",
        "    if i != term:\n",
        "        result += i\n",
        "#\n",
        "print('result: ',result)"
      ]
    },
    {
      "cell_type": "code",
      "execution_count": 49,
      "metadata": {},
      "outputs": [
        {
          "name": "stdout",
          "output_type": "stream",
          "text": [
            "shubhamj is not a palindrome.\n"
          ]
        }
      ],
      "source": [
        "# Write a program that can check whether a given string is palindrome or not.\n",
        "# abba\n",
        "# malayalam\n",
        "\n",
        "#\n",
        "word = input(\"Enter a Word: \")\n",
        "#\n",
        "flag = True\n",
        "#\n",
        "for i in range(0,len(s)//2):\n",
        "    if word[i] != word[len(word) - i - 1]:\n",
        "        flag = False\n",
        "        print(word,'is not a palindrome.')\n",
        "        break\n",
        "if flag:\n",
        "    print(word,'is a palindrome.')\n"
      ]
    },
    {
      "cell_type": "code",
      "execution_count": 53,
      "metadata": {},
      "outputs": [
        {
          "name": "stdout",
          "output_type": "stream",
          "text": [
            "No. of words in string ' shubham kumar gupta ' is 3\n"
          ]
        }
      ],
      "source": [
        "# Write a program to count the number of words in a string without split()\n",
        "#\n",
        "s = input(\"Enter a String: \")\n",
        "#\n",
        "counter = 0\n",
        "#\n",
        "for i in s:\n",
        "    if i == \" \":\n",
        "        counter += 1\n",
        "print(\"No. of words in string\",\"'\",s,\"'\",\"is\",counter+1)"
      ]
    }
  ],
  "metadata": {
    "colab": {
      "provenance": []
    },
    "kernelspec": {
      "display_name": "Python 3",
      "name": "python3"
    },
    "language_info": {
      "codemirror_mode": {
        "name": "ipython",
        "version": 3
      },
      "file_extension": ".py",
      "mimetype": "text/x-python",
      "name": "python",
      "nbconvert_exporter": "python",
      "pygments_lexer": "ipython3",
      "version": "3.11.0"
    }
  },
  "nbformat": 4,
  "nbformat_minor": 0
}
