{
  "cells": [
    {
      "cell_type": "markdown",
      "metadata": {},
      "source": [
        "### Sequence sum\n",
        "\n",
        "1/1! + 2/2! + 3/3! + ..."
      ]
    },
    {
      "cell_type": "code",
      "execution_count": 7,
      "metadata": {},
      "outputs": [
        {
          "name": "stdout",
          "output_type": "stream",
          "text": [
            "2.5\n"
          ]
        }
      ],
      "source": [
        "#\n",
        "nth_term = int(input(\"Enter nth Term :\"))\n",
        "#\n",
        "factorial = 1\n",
        "sum = 0\n",
        "#\n",
        "for i in range(1,nth_term+1):\n",
        "    factorial *= i\n",
        "    sum += i/factorial\n",
        "\n",
        "print(sum)"
      ]
    },
    {
      "cell_type": "markdown",
      "metadata": {},
      "source": [
        "# Nested Loops"
      ]
    },
    {
      "cell_type": "code",
      "execution_count": 13,
      "metadata": {},
      "outputs": [
        {
          "name": "stdout",
          "output_type": "stream",
          "text": [
            "1 1\n",
            "1 2\n",
            "1 3\n",
            "1 4\n",
            "2 1\n",
            "2 2\n",
            "2 3\n",
            "2 4\n",
            "3 1\n",
            "3 2\n",
            "3 3\n",
            "3 4\n",
            "4 1\n",
            "4 2\n",
            "4 3\n",
            "4 4\n"
          ]
        }
      ],
      "source": [
        "# Example -> unique pairs\n",
        "# number = input(\"Enter a Number :\")\n",
        "# for i in number:\n",
        "#     for j in number:\n",
        "#         print(i,j)\n",
        "\n",
        "# Alternatively\n",
        "number = int(input(\"Enter a Number :\"))\n",
        "for i in range(1,number+1):\n",
        "    for j in range(1,number+1):\n",
        "        print(i,j)"
      ]
    },
    {
      "cell_type": "markdown",
      "metadata": {},
      "source": [
        "### Pattern 1\n",
        "\n",
        "\n",
        "*<br>\n",
        "** <br>\n",
        "***<br>"
      ]
    },
    {
      "cell_type": "code",
      "execution_count": 22,
      "metadata": {},
      "outputs": [
        {
          "name": "stdout",
          "output_type": "stream",
          "text": [
            "*\n",
            "**\n",
            "***\n",
            "****\n",
            "*****\n"
          ]
        }
      ],
      "source": [
        "#\n",
        "raw = int(input(\"Enter No. of Raws :\"))\n",
        "#\n",
        "for i in range(1,raw+1):\n",
        "    for j in range(1,i+1):\n",
        "        print('*',end='')\n",
        "    print()\n"
      ]
    },
    {
      "cell_type": "markdown",
      "metadata": {},
      "source": [
        "### Pattern 2\n",
        "\n",
        "1<br>\n",
        "121<br>\n",
        "12321<br>\n",
        "1234321<br>"
      ]
    },
    {
      "cell_type": "code",
      "execution_count": 27,
      "metadata": {},
      "outputs": [
        {
          "name": "stdout",
          "output_type": "stream",
          "text": [
            "1\n",
            "121\n",
            "12321\n",
            "1234321\n",
            "123454321\n"
          ]
        }
      ],
      "source": [
        "#\n",
        "raw = int(input(\"Enter the No. of Raws :\"))\n",
        "for i in range(1,raw+1):\n",
        "    for j in range(1,i+1):\n",
        "        print(j,end='')\n",
        "    for k in range(i-1,0,-1):\n",
        "        print(k,end='')\n",
        "    print()"
      ]
    },
    {
      "cell_type": "markdown",
      "metadata": {},
      "source": [
        "# Loop Control Statement\n",
        "\n",
        "- Break\n",
        "- Continue\n",
        "- Pass"
      ]
    },
    {
      "cell_type": "code",
      "execution_count": 28,
      "metadata": {},
      "outputs": [
        {
          "name": "stdout",
          "output_type": "stream",
          "text": [
            "1\n",
            "2\n",
            "3\n",
            "4\n"
          ]
        }
      ],
      "source": [
        "# break\n",
        "for i in range(1,10):\n",
        "    if i == 5:\n",
        "        break\n",
        "    print(i)"
      ]
    },
    {
      "cell_type": "code",
      "execution_count": 30,
      "metadata": {},
      "outputs": [
        {
          "name": "stdout",
          "output_type": "stream",
          "text": [
            "101,103,107,109,113,127,131,137,139,149,151,157,163,167,173,179,181,191,193,197,199,"
          ]
        }
      ],
      "source": [
        "#Example - Break\n",
        "#\n",
        "lowar_range = int(input(\"Enter Lowar Range :\"))\n",
        "upper_range = int(input(\"Enter Upper Range :\"))\n",
        "#\n",
        "for i in range(lowar_range,upper_range+1):\n",
        "    for j in range(2,i):\n",
        "        if i%j == 0:\n",
        "            break\n",
        "    else:\n",
        "        print(i,end=',')"
      ]
    },
    {
      "cell_type": "code",
      "execution_count": 31,
      "metadata": {},
      "outputs": [
        {
          "name": "stdout",
          "output_type": "stream",
          "text": [
            "1\n",
            "2\n",
            "3\n",
            "4\n",
            "6\n",
            "7\n",
            "8\n",
            "9\n",
            "10\n"
          ]
        }
      ],
      "source": [
        "# continue\n",
        "for i in range(1,11):\n",
        "    if i == 5:\n",
        "        continue\n",
        "    print(i)"
      ]
    },
    {
      "cell_type": "code",
      "execution_count": 32,
      "metadata": {},
      "outputs": [],
      "source": [
        "# pass\n",
        "for i in range(1,10):\n",
        "    pass"
      ]
    },
    {
      "cell_type": "markdown",
      "metadata": {},
      "source": [
        "# String"
      ]
    },
    {
      "cell_type": "markdown",
      "metadata": {},
      "source": [
        "Strings are sequence of Characters\n",
        "\n",
        "In Python specifically, strings are a sequence of Unicode Characters\n",
        "\n",
        "- Creating Strings\n",
        "- Accessing Strings\n",
        "- Adding Chars to Strings\n",
        "- Editing Strings\n",
        "- Deleting Strings\n",
        "- Operations on Strings\n",
        "- String Functions"
      ]
    },
    {
      "cell_type": "markdown",
      "metadata": {},
      "source": [
        "### Creating Strings"
      ]
    },
    {
      "cell_type": "code",
      "execution_count": 35,
      "metadata": {},
      "outputs": [
        {
          "name": "stdout",
          "output_type": "stream",
          "text": [
            "shubham\n",
            "shubham's birhtday is on 6th of March\n",
            "Multi\n",
            "line\n",
            "string\n",
            "123 <class 'str'>\n"
          ]
        }
      ],
      "source": [
        "name = 'shubham'\n",
        "print(name)\n",
        "birthDay = \"shubham's birhtday is on 6th of March\"\n",
        "print(birthDay)\n",
        "print(\"\"\"Multi\n",
        "line\n",
        "string\"\"\")\n",
        "roleNo = str(123)\n",
        "print(roleNo,type(roleNo))"
      ]
    },
    {
      "cell_type": "markdown",
      "metadata": {},
      "source": [
        "### Accessing Substrings from a String\n",
        "* Indexing\n",
        "* Slicing"
      ]
    },
    {
      "cell_type": "code",
      "execution_count": 41,
      "metadata": {},
      "outputs": [
        {
          "name": "stdout",
          "output_type": "stream",
          "text": [
            "S\n",
            "h\n",
            "b\n",
            "K\n"
          ]
        },
        {
          "ename": "IndexError",
          "evalue": "string index out of range",
          "output_type": "error",
          "traceback": [
            "\u001b[1;31m---------------------------------------------------------------------------\u001b[0m",
            "\u001b[1;31mIndexError\u001b[0m                                Traceback (most recent call last)",
            "\u001b[1;32me:\\Data-Science-Mentorship-Program\\class-work\\DSMP_S3_strings_lists_classwork.ipynb Cell 19\u001b[0m line \u001b[0;36m7\n\u001b[0;32m      <a href='vscode-notebook-cell:/e%3A/Data-Science-Mentorship-Program/class-work/DSMP_S3_strings_lists_classwork.ipynb#X30sZmlsZQ%3D%3D?line=4'>5</a>\u001b[0m \u001b[39mprint\u001b[39m(s[\u001b[39m3\u001b[39m])\n\u001b[0;32m      <a href='vscode-notebook-cell:/e%3A/Data-Science-Mentorship-Program/class-work/DSMP_S3_strings_lists_classwork.ipynb#X30sZmlsZQ%3D%3D?line=5'>6</a>\u001b[0m \u001b[39mprint\u001b[39m(s[\u001b[39m8\u001b[39m])\n\u001b[1;32m----> <a href='vscode-notebook-cell:/e%3A/Data-Science-Mentorship-Program/class-work/DSMP_S3_strings_lists_classwork.ipynb#X30sZmlsZQ%3D%3D?line=6'>7</a>\u001b[0m \u001b[39mprint\u001b[39m(s[\u001b[39m41\u001b[39;49m])\n",
            "\u001b[1;31mIndexError\u001b[0m: string index out of range"
          ]
        }
      ],
      "source": [
        "#Positibe Indexing\n",
        "s = \"Shubham Kumar Gupta\"\n",
        "print(s[0])\n",
        "print(s[1])\n",
        "print(s[3])\n",
        "print(s[8])\n",
        "print(s[41])"
      ]
    },
    {
      "cell_type": "code",
      "execution_count": 46,
      "metadata": {},
      "outputs": [
        {
          "name": "stdout",
          "output_type": "stream",
          "text": [
            "atpug ramuk mahbuhs\n",
            "a\n",
            "t\n",
            "p\n"
          ]
        }
      ],
      "source": [
        "# Negative Indexing\n",
        "s = \"shubham kumar gupta\"\n",
        "print(s[-1])\n",
        "print(s[-2])\n",
        "print(s[-3])\n"
      ]
    },
    {
      "cell_type": "markdown",
      "metadata": {},
      "source": [
        "##"
      ]
    }
  ],
  "metadata": {
    "colab": {
      "provenance": []
    },
    "kernelspec": {
      "display_name": "Python 3",
      "name": "python3"
    },
    "language_info": {
      "codemirror_mode": {
        "name": "ipython",
        "version": 3
      },
      "file_extension": ".py",
      "mimetype": "text/x-python",
      "name": "python",
      "nbconvert_exporter": "python",
      "pygments_lexer": "ipython3",
      "version": "3.11.0"
    }
  },
  "nbformat": 4,
  "nbformat_minor": 0
}
