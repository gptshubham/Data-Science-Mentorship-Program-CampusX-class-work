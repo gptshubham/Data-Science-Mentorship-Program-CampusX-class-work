{
  "cells": [
    {
      "cell_type": "markdown",
      "metadata": {},
      "source": [
        "### Sequence sum\n",
        "\n",
        "1/1! + 2/2! + 3/3! + ..."
      ]
    },
    {
      "cell_type": "code",
      "execution_count": 7,
      "metadata": {},
      "outputs": [
        {
          "name": "stdout",
          "output_type": "stream",
          "text": [
            "2.5\n"
          ]
        }
      ],
      "source": [
        "#\n",
        "nth_term = int(input(\"Enter nth Term :\"))\n",
        "#\n",
        "factorial = 1\n",
        "sum = 0\n",
        "#\n",
        "for i in range(1,nth_term+1):\n",
        "    factorial *= i\n",
        "    sum += i/factorial\n",
        "\n",
        "print(sum)"
      ]
    },
    {
      "cell_type": "markdown",
      "metadata": {},
      "source": [
        "# Nested Loops"
      ]
    },
    {
      "cell_type": "code",
      "execution_count": 13,
      "metadata": {},
      "outputs": [
        {
          "name": "stdout",
          "output_type": "stream",
          "text": [
            "1 1\n",
            "1 2\n",
            "1 3\n",
            "1 4\n",
            "2 1\n",
            "2 2\n",
            "2 3\n",
            "2 4\n",
            "3 1\n",
            "3 2\n",
            "3 3\n",
            "3 4\n",
            "4 1\n",
            "4 2\n",
            "4 3\n",
            "4 4\n"
          ]
        }
      ],
      "source": [
        "# Example -> unique pairs\n",
        "# number = input(\"Enter a Number :\")\n",
        "# for i in number:\n",
        "#     for j in number:\n",
        "#         print(i,j)\n",
        "\n",
        "# Alternatively\n",
        "number = int(input(\"Enter a Number :\"))\n",
        "for i in range(1,number+1):\n",
        "    for j in range(1,number+1):\n",
        "        print(i,j)"
      ]
    },
    {
      "cell_type": "markdown",
      "metadata": {},
      "source": [
        "### Pattern 1\n",
        "\n",
        "\n",
        "*<br>\n",
        "** <br>\n",
        "***<br>"
      ]
    },
    {
      "cell_type": "code",
      "execution_count": 22,
      "metadata": {},
      "outputs": [
        {
          "name": "stdout",
          "output_type": "stream",
          "text": [
            "*\n",
            "**\n",
            "***\n",
            "****\n",
            "*****\n"
          ]
        }
      ],
      "source": [
        "#\n",
        "raw = int(input(\"Enter No. of Raws :\"))\n",
        "#\n",
        "for i in range(1,raw+1):\n",
        "    for j in range(1,i+1):\n",
        "        print('*',end='')\n",
        "    print()\n"
      ]
    },
    {
      "cell_type": "markdown",
      "metadata": {},
      "source": [
        "##"
      ]
    }
  ],
  "metadata": {
    "colab": {
      "provenance": []
    },
    "kernelspec": {
      "display_name": "Python 3",
      "name": "python3"
    },
    "language_info": {
      "codemirror_mode": {
        "name": "ipython",
        "version": 3
      },
      "file_extension": ".py",
      "mimetype": "text/x-python",
      "name": "python",
      "nbconvert_exporter": "python",
      "pygments_lexer": "ipython3",
      "version": "3.11.0"
    }
  },
  "nbformat": 4,
  "nbformat_minor": 0
}
