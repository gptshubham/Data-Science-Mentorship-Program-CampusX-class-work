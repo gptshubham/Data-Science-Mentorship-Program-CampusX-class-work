{
  "cells": [
    {
      "cell_type": "markdown",
      "metadata": {
        "id": "sELkSBKPq8Jo"
      },
      "source": [
        "## Operators in Python\n",
        "- Arithmetic Operators\n",
        "- Relational Operators\n",
        "- Logical Operators\n",
        "- Bitwise Operators\n",
        "- Assignment Operators\n",
        "- Membership Operators"
      ]
    },
    {
      "cell_type": "code",
      "execution_count": null,
      "metadata": {
        "colab": {
          "base_uri": "https://localhost:8080/"
        },
        "id": "Jiq_aouXrCLs",
        "outputId": "c544b75f-837d-4c8c-cbc7-14427d27fd5b"
      },
      "outputs": [
        {
          "name": "stdout",
          "output_type": "stream",
          "text": [
            "3\n",
            "1\n",
            "100\n"
          ]
        }
      ],
      "source": [
        "# Arithmetic Operators\n",
        "print(10//3)\n",
        "print(10%3)\n",
        "print(10**2)"
      ]
    },
    {
      "cell_type": "code",
      "execution_count": null,
      "metadata": {
        "id": "1wmz1QSMr53s"
      },
      "outputs": [],
      "source": [
        "# Relational Operators"
      ]
    },
    {
      "cell_type": "code",
      "execution_count": null,
      "metadata": {
        "id": "dGkhTjf-smHJ"
      },
      "outputs": [],
      "source": [
        "# Logical Operators"
      ]
    },
    {
      "cell_type": "code",
      "execution_count": null,
      "metadata": {
        "id": "BpqTJWeusvKn"
      },
      "outputs": [],
      "source": [
        "# Bitwise Operators - operate on binary values\n",
        "# Bitwise and(&) operator\n",
        "# Bitwise or(|) operator\n",
        "# Bitwise xor(^) operator\n",
        "# Bitwise not(~) operator\n",
        "# Bitwise left(>>) operator\n",
        "# Bitwise right(<<) operator"
      ]
    },
    {
      "cell_type": "code",
      "execution_count": null,
      "metadata": {
        "id": "H_C8VludyjxX"
      },
      "outputs": [],
      "source": [
        "# Assignment Operators"
      ]
    },
    {
      "cell_type": "code",
      "execution_count": null,
      "metadata": {
        "colab": {
          "base_uri": "https://localhost:8080/",
          "height": 262
        },
        "id": "rRLqvgAlynes",
        "outputId": "303980f7-99f6-442a-ca1b-e2b8a6ecb51e"
      },
      "outputs": [
        {
          "name": "stdout",
          "output_type": "stream",
          "text": [
            "True\n",
            "False\n",
            "True\n"
          ]
        },
        {
          "ename": "TypeError",
          "evalue": "ignored",
          "output_type": "error",
          "traceback": [
            "\u001b[0;31m---------------------------------------------------------------------------\u001b[0m",
            "\u001b[0;31mTypeError\u001b[0m                                 Traceback (most recent call last)",
            "\u001b[0;32m<ipython-input-18-5358b1c289ba>\u001b[0m in \u001b[0;36m<cell line: 5>\u001b[0;34m()\u001b[0m\n\u001b[1;32m      3\u001b[0m \u001b[0mprint\u001b[0m\u001b[0;34m(\u001b[0m\u001b[0;34m'S'\u001b[0m \u001b[0;32min\u001b[0m \u001b[0;34m'shubham'\u001b[0m\u001b[0;34m)\u001b[0m\u001b[0;34m\u001b[0m\u001b[0;34m\u001b[0m\u001b[0m\n\u001b[1;32m      4\u001b[0m \u001b[0mprint\u001b[0m\u001b[0;34m(\u001b[0m\u001b[0;34m'S'\u001b[0m \u001b[0;32mnot\u001b[0m \u001b[0;32min\u001b[0m \u001b[0;34m'shubham'\u001b[0m\u001b[0;34m)\u001b[0m\u001b[0;34m\u001b[0m\u001b[0;34m\u001b[0m\u001b[0m\n\u001b[0;32m----> 5\u001b[0;31m \u001b[0mprint\u001b[0m\u001b[0;34m(\u001b[0m\u001b[0;36m1\u001b[0m \u001b[0;32min\u001b[0m \u001b[0;36m123\u001b[0m\u001b[0;34m)\u001b[0m\u001b[0;34m\u001b[0m\u001b[0;34m\u001b[0m\u001b[0m\n\u001b[0m",
            "\u001b[0;31mTypeError\u001b[0m: argument of type 'int' is not iterable"
          ]
        }
      ],
      "source": [
        "# Membership Operators\n",
        "print('s' in 'shubham')\n",
        "print('S' in 'shubham')\n",
        "print('S' not in 'shubham')\n",
        "print(1 in 123)"
      ]
    },
    {
      "cell_type": "code",
      "execution_count": null,
      "metadata": {
        "colab": {
          "base_uri": "https://localhost:8080/",
          "height": 175
        },
        "id": "dNx-TmfW07NW",
        "outputId": "df272489-dc69-4b30-f5f7-ebf39af20612"
      },
      "outputs": [
        {
          "ename": "TypeError",
          "evalue": "ignored",
          "output_type": "error",
          "traceback": [
            "\u001b[0;31m---------------------------------------------------------------------------\u001b[0m",
            "\u001b[0;31mTypeError\u001b[0m                                 Traceback (most recent call last)",
            "\u001b[0;32m<ipython-input-20-a6ed723649af>\u001b[0m in \u001b[0;36m<cell line: 1>\u001b[0;34m()\u001b[0m\n\u001b[0;32m----> 1\u001b[0;31m \u001b[0mprint\u001b[0m\u001b[0;34m(\u001b[0m\u001b[0;36m1\u001b[0m \u001b[0;32min\u001b[0m \u001b[0;36m123.3\u001b[0m\u001b[0;34m)\u001b[0m\u001b[0;34m\u001b[0m\u001b[0;34m\u001b[0m\u001b[0m\n\u001b[0m",
            "\u001b[0;31mTypeError\u001b[0m: argument of type 'float' is not iterable"
          ]
        }
      ],
      "source": [
        "print(1 in 123.3)"
      ]
    },
    {
      "cell_type": "code",
      "execution_count": null,
      "metadata": {
        "colab": {
          "base_uri": "https://localhost:8080/"
        },
        "id": "af-hdDHezNFq",
        "outputId": "2fb75c5b-e5b8-436a-f707-d50c1fdf35de"
      },
      "outputs": [
        {
          "name": "stdout",
          "output_type": "stream",
          "text": [
            "True\n",
            "True\n",
            "False\n",
            "True\n",
            "True\n"
          ]
        }
      ],
      "source": [
        "print(1 in [1,2,3,4,3,5])\n",
        "print(2 in (1,2,3,4,3,5))\n",
        "print(3 not in {1,2,3,4,3,5})\n",
        "print(True in [1,2,3,4,3,5])\n",
        "print(False not in [1,2,3,4,3,5])\n"
      ]
    },
    {
      "cell_type": "code",
      "execution_count": null,
      "metadata": {
        "colab": {
          "base_uri": "https://localhost:8080/"
        },
        "id": "PGNQ3rrjznux",
        "outputId": "7e0ef362-c1a1-40ae-f9db-1a9f6f97d84a"
      },
      "outputs": [
        {
          "name": "stdout",
          "output_type": "stream",
          "text": [
            "Enter a 3 Digit Number :123\n",
            "Sum = 6\n"
          ]
        }
      ],
      "source": [
        "# Program\n",
        "# taking input from user\n",
        "number = int(input(\"Enter a 3 Digit Number :\"))\n",
        "# extracting 1st digit and storing in digit1 variable\n",
        "digit1 = number % 10\n",
        "# updating number\n",
        "number //= 10\n",
        "# extracting 2nd digit and storing in digit2 variable\n",
        "digit2 = number % 10\n",
        "# updating number\n",
        "number //= 10\n",
        "# calculation of sum of digits\n",
        "sum = digit1 + digit2 + number\n",
        "# printing output\n",
        "print(\"Sum =\",sum)"
      ]
    },
    {
      "cell_type": "markdown",
      "metadata": {
        "id": "gwLs3j694bpQ"
      },
      "source": [
        "## If-Else in Python"
      ]
    },
    {
      "cell_type": "code",
      "execution_count": null,
      "metadata": {
        "colab": {
          "base_uri": "https://localhost:8080/"
        },
        "id": "5zZKLkQG3X_G",
        "outputId": "47e655c4-e5d6-445c-9bac-f6cc6dbb79ee"
      },
      "outputs": [
        {
          "name": "stdout",
          "output_type": "stream",
          "text": [
            "Enter Your Email Address :me@gmail.com\n",
            "Enter Password :kalakabutar\n",
            "Welcome!\n"
          ]
        }
      ],
      "source": [
        "# Email Program - if-else\n",
        "email = \"me@gmail.com\"\n",
        "password = \"kalakabutar\"\n",
        "user_email = input(\"Enter Your Email Address :\")\n",
        "if email == user_email:\n",
        "  user_password = input(\"Enter Password :\")\n",
        "  if password == user_password:\n",
        "    print(\"Welcome!\")\n",
        "  else:\n",
        "    print(\"Incorrect Password!\")\n",
        "else:\n",
        "  print(\"Incorrect UserId!\")"
      ]
    },
    {
      "cell_type": "code",
      "execution_count": null,
      "metadata": {
        "colab": {
          "background_save": true
        },
        "id": "8SLSWVRP7Hke",
        "outputId": "00599154-e24d-400e-8b06-3f664a2bc067"
      },
      "outputs": [
        {
          "name": "stdout",
          "output_type": "stream",
          "text": [
            "Welcome!\n"
          ]
        }
      ],
      "source": [
        "# Email Program - elif\n",
        "email = \"me@gmail.com\"\n",
        "password = \"kalakabutar\"\n",
        "user_email = input(\"Enter Your Email Address :\")\n",
        "user_password = input(\"Enter Password :\")\n",
        "if email == user_email and password == user_password:\n",
        "  print(\"Welcome!\")\n",
        "elif email == user_email and password != user_password:\n",
        "  print(\"Incorrect Password!\")\n",
        "else:\n",
        "  print(\"Incorrect User Id!\")"
      ]
    },
    {
      "cell_type": "code",
      "execution_count": null,
      "metadata": {
        "id": "OFSshtZY-c_h",
        "colab": {
          "base_uri": "https://localhost:8080/"
        },
        "outputId": "66117c57-cd98-42c7-86e5-99e408aea5d8"
      },
      "outputs": [
        {
          "output_type": "stream",
          "name": "stdout",
          "text": [
            "Enter 1st Number :20\n",
            "Enter 2nd Number :10\n",
            "Enter 3rd Number :20\n",
            "Min = 10\n"
          ]
        }
      ],
      "source": [
        "# Program - Min of 3 given Numbers\n",
        "number1 = int(input(\"Enter 1st Number :\"))\n",
        "number2 = int(input(\"Enter 2nd Number :\"))\n",
        "number3 = int(input(\"Enter 3rd Number :\"))\n",
        "if number1 < number2 and number1 < number3:\n",
        "  print(\"Min =\",number1)\n",
        "elif number2 < number3:\n",
        "  print(\"Min =\",number2)\n",
        "else:\n",
        "  print(\"Min =\",number3)"
      ]
    },
    {
      "cell_type": "code",
      "source": [
        "# Menu Driven Calculator\n",
        "\n",
        "number1 = int(input(\"Enter 1st Number :\"))\n",
        "number2 = int(input(\"Enter 2nd Number :\"))\n",
        "operation = input(\"\"\"Select an operation from menu :\n",
        "          1. addition\n",
        "          2. subtraction\n",
        "          3. multiplicaton\n",
        "          4. division\n",
        "          5. modulus\n",
        "          6. exit\"\"\")\n",
        "if operation == \"1\":\n",
        "  print(number1 + number2)\n",
        "elif operation == \"2\":\n",
        "  print(number1 - number2)\n",
        "elif operation == \"3\":\n",
        "  print(number1 * number2)\n",
        "elif operation == \"4\":\n",
        "  print(number1 / number2)\n",
        "elif operation == \"5\":\n",
        "  print(number1 % number2)\n",
        "else:\n",
        "  print(\"Exit!\")"
      ],
      "metadata": {
        "colab": {
          "base_uri": "https://localhost:8080/"
        },
        "id": "EuwBct-YOyAi",
        "outputId": "b4ee5870-c368-45db-e5d6-9c8ce84815ca"
      },
      "execution_count": null,
      "outputs": [
        {
          "output_type": "stream",
          "name": "stdout",
          "text": [
            "Enter 1st Number :20\n",
            "Enter 2nd Number :10\n",
            "Select an operation from menu : \n",
            "          1. addition\n",
            "          2. subtraction\n",
            "          3. multiplicaton\n",
            "          4. division\n",
            "          5. modulus\n",
            "          6. exit1\n",
            "30\n"
          ]
        }
      ]
    },
    {
      "cell_type": "markdown",
      "source": [
        "## Modules in Python\n",
        "\n",
        "- math\n",
        "- keywords\n",
        "- random\n",
        "- datetime"
      ],
      "metadata": {
        "id": "aVIsDQGSTm2m"
      }
    },
    {
      "cell_type": "code",
      "source": [
        "# math module\n",
        "import math\n",
        "number = int(input(\"Enter the Number :\"))\n",
        "result = math.sqrt(number)\n",
        "print(\"Square Root of\",number,\"is\",result)"
      ],
      "metadata": {
        "colab": {
          "base_uri": "https://localhost:8080/"
        },
        "id": "KDwTBe2hTn8L",
        "outputId": "b606d381-0943-43b7-a6a9-93bd17683a0a"
      },
      "execution_count": null,
      "outputs": [
        {
          "output_type": "stream",
          "name": "stdout",
          "text": [
            "Enter the Number :150\n",
            "Square Root of 150 is 12.24744871391589\n"
          ]
        }
      ]
    },
    {
      "cell_type": "code",
      "source": [
        "# keyword module\n",
        "import keyword\n",
        "print(keyword.kwlist)\n",
        "print(keyword.iskeyword(True))\n",
        "print(keyword.iskeyword('True'))"
      ],
      "metadata": {
        "colab": {
          "base_uri": "https://localhost:8080/"
        },
        "id": "J1vv4oZqWJwc",
        "outputId": "306f6d90-bc35-4633-8563-7de233996152"
      },
      "execution_count": null,
      "outputs": [
        {
          "output_type": "stream",
          "name": "stdout",
          "text": [
            "['False', 'None', 'True', 'and', 'as', 'assert', 'async', 'await', 'break', 'class', 'continue', 'def', 'del', 'elif', 'else', 'except', 'finally', 'for', 'from', 'global', 'if', 'import', 'in', 'is', 'lambda', 'nonlocal', 'not', 'or', 'pass', 'raise', 'return', 'try', 'while', 'with', 'yield']\n",
            "False\n",
            "True\n"
          ]
        }
      ]
    },
    {
      "cell_type": "code",
      "source": [
        "# random module\n",
        "import random\n",
        "print(random.randint(1,100))"
      ],
      "metadata": {
        "id": "8X39mIz2XAQZ",
        "colab": {
          "base_uri": "https://localhost:8080/"
        },
        "outputId": "6ec7a9cc-a2e0-48b4-b07c-127c0fc14e92"
      },
      "execution_count": null,
      "outputs": [
        {
          "output_type": "stream",
          "name": "stdout",
          "text": [
            "26\n"
          ]
        }
      ]
    },
    {
      "cell_type": "code",
      "source": [
        "# datetime module\n",
        "import datetime\n",
        "print(datetime.datetime.now())"
      ],
      "metadata": {
        "colab": {
          "base_uri": "https://localhost:8080/"
        },
        "id": "NTEnzImfPOjz",
        "outputId": "d695a74b-f10c-4e6e-8678-18316f48e6df"
      },
      "execution_count": null,
      "outputs": [
        {
          "output_type": "stream",
          "name": "stdout",
          "text": [
            "2023-09-18 00:02:07.176375\n"
          ]
        }
      ]
    },
    {
      "cell_type": "code",
      "source": [
        "help('modules')"
      ],
      "metadata": {
        "colab": {
          "base_uri": "https://localhost:8080/",
          "height": 1000
        },
        "id": "8AaBpfKkPrEK",
        "outputId": "f67dc331-563a-44fe-b555-3660dda86bb8"
      },
      "execution_count": null,
      "outputs": [
        {
          "output_type": "stream",
          "name": "stdout",
          "text": [
            "\n",
            "Please wait a moment while I gather a list of all available modules...\n",
            "\n"
          ]
        },
        {
          "output_type": "stream",
          "name": "stderr",
          "text": [
            "/usr/local/lib/python3.10/dist-packages/IPython/kernel/__init__.py:12: ShimWarning: The `IPython.kernel` package has been deprecated since IPython 4.0.You should import from ipykernel or jupyter_client instead.\n",
            "  warn(\"The `IPython.kernel` package has been deprecated since IPython 4.0.\"\n",
            "/usr/local/lib/python3.10/dist-packages/altair/vega/v5/__init__.py:18: AltairDeprecationWarning: The module altair.vega.v5 is deprecated and will be removed in Altair 5.\n",
            "  warnings.warn(\n",
            "/usr/local/lib/python3.10/dist-packages/altair/vegalite/v3/__init__.py:29: AltairDeprecationWarning: The module altair.vegalite.v3 is deprecated and will be removed in Altair 5. Use `import altair as alt` instead of `import altair.vegalite.v3 as alt`.\n",
            "  warnings.warn(\n",
            "/usr/local/lib/python3.10/dist-packages/jupyter_client/ssh/tunnel.py:57: DeprecationWarning:\n",
            "\n",
            "zmq.utils.strtypes is deprecated in pyzmq 23.\n",
            "\n",
            "/usr/local/lib/python3.10/dist-packages/llvmlite/llvmpy/__init__.py:3: UserWarning:\n",
            "\n",
            "The module `llvmlite.llvmpy` is deprecated and will be removed in the future.\n",
            "\n"
          ]
        },
        {
          "output_type": "stream",
          "name": "stdout",
          "text": [
            "Downloading https://dlib.net/files/shape_predictor_68_face_landmarks.dat.bz2 to /root/mlxtend_data/shape_predictor_68_face_landmarks.dat.bz2\n"
          ]
        },
        {
          "output_type": "stream",
          "name": "stderr",
          "text": [
            "/usr/local/lib/python3.10/dist-packages/moviepy/video/fx/painting.py:7: DeprecationWarning:\n",
            "\n",
            "Please use `sobel` from the `scipy.ndimage` namespace, the `scipy.ndimage.filters` namespace is deprecated.\n",
            "\n",
            "/usr/lib/python3.10/pkgutil.py:92: UserWarning:\n",
            "\n",
            "The DICOM readers are highly experimental, unstable, and only work for Siemens time-series at the moment\n",
            "Please use with caution.  We would be grateful for your help in improving them\n",
            "\n",
            "/usr/local/lib/python3.10/dist-packages/nltk/twitter/__init__.py:20: UserWarning:\n",
            "\n",
            "The twython library has not been installed. Some functionality from the twitter package will not be available.\n",
            "\n",
            "/usr/local/lib/python3.10/dist-packages/notebook/utils.py:280: DeprecationWarning:\n",
            "\n",
            "distutils Version classes are deprecated. Use packaging.version instead.\n",
            "\n",
            "/usr/local/lib/python3.10/dist-packages/notebook/utils.py:280: DeprecationWarning:\n",
            "\n",
            "distutils Version classes are deprecated. Use packaging.version instead.\n",
            "\n",
            "/usr/local/lib/python3.10/dist-packages/matplotlib_inline/config.py:68: DeprecationWarning:\n",
            "\n",
            "InlineBackend._figure_format_changed is deprecated in traitlets 4.1: use @observe and @unobserve instead.\n",
            "\n",
            "/usr/local/lib/python3.10/dist-packages/numba/pycc/platform.py:6: DeprecationWarning:\n",
            "\n",
            "\n",
            "\n",
            "  `numpy.distutils` is deprecated since NumPy 1.23.0, as a result\n",
            "  of the deprecation of `distutils` itself. It will be removed for\n",
            "  Python >= 3.12. For older Python versions it will remain present.\n",
            "  It is recommended to use `setuptools < 60.0` for those Python versions.\n",
            "  For more details, see:\n",
            "    https://numpy.org/devdocs/reference/distutils_status_migration.html \n",
            "\n",
            "\n",
            "\n",
            "/usr/local/lib/python3.10/dist-packages/setuptools/_distutils/msvccompiler.py:66: DeprecationWarning:\n",
            "\n",
            "msvccompiler is deprecated and slated to be removed in the future. Please discontinue use or file an issue with pypa/distutils describing your use case.\n",
            "\n",
            "/usr/lib/python3.10/pkgutil.py:92: UserWarning:\n",
            "\n",
            "The numpy.array_api submodule is still experimental. See NEP 47.\n",
            "\n",
            "/usr/local/lib/python3.10/dist-packages/pandas_datareader/compat/__init__.py:11: DeprecationWarning:\n",
            "\n",
            "distutils Version classes are deprecated. Use packaging.version instead.\n",
            "\n",
            "/usr/local/lib/python3.10/dist-packages/pandas_datareader/compat/__init__.py:13: DeprecationWarning:\n",
            "\n",
            "distutils Version classes are deprecated. Use packaging.version instead.\n",
            "\n",
            "/usr/local/lib/python3.10/dist-packages/pandas_datareader/compat/__init__.py:14: DeprecationWarning:\n",
            "\n",
            "distutils Version classes are deprecated. Use packaging.version instead.\n",
            "\n",
            "/usr/local/lib/python3.10/dist-packages/pandas_datareader/compat/__init__.py:15: DeprecationWarning:\n",
            "\n",
            "distutils Version classes are deprecated. Use packaging.version instead.\n",
            "\n",
            "/usr/local/lib/python3.10/dist-packages/pip/_vendor/pkg_resources/__init__.py:121: DeprecationWarning:\n",
            "\n",
            "pkg_resources is deprecated as an API\n",
            "\n",
            "/usr/local/lib/python3.10/dist-packages/pip/_vendor/pkg_resources/__init__.py:2870: DeprecationWarning:\n",
            "\n",
            "Deprecated call to `pkg_resources.declare_namespace('google')`.\n",
            "Implementing implicit namespace packages (as specified in PEP 420) is preferred to `pkg_resources.declare_namespace`. See https://setuptools.pypa.io/en/latest/references/keywords.html#keyword-namespace-packages\n",
            "\n",
            "/usr/local/lib/python3.10/dist-packages/pip/_vendor/pkg_resources/__init__.py:2870: DeprecationWarning:\n",
            "\n",
            "Deprecated call to `pkg_resources.declare_namespace('google')`.\n",
            "Implementing implicit namespace packages (as specified in PEP 420) is preferred to `pkg_resources.declare_namespace`. See https://setuptools.pypa.io/en/latest/references/keywords.html#keyword-namespace-packages\n",
            "\n",
            "/usr/local/lib/python3.10/dist-packages/pip/_vendor/pkg_resources/__init__.py:2870: DeprecationWarning:\n",
            "\n",
            "Deprecated call to `pkg_resources.declare_namespace('google')`.\n",
            "Implementing implicit namespace packages (as specified in PEP 420) is preferred to `pkg_resources.declare_namespace`. See https://setuptools.pypa.io/en/latest/references/keywords.html#keyword-namespace-packages\n",
            "\n",
            "/usr/local/lib/python3.10/dist-packages/pip/_vendor/pkg_resources/__init__.py:2870: DeprecationWarning:\n",
            "\n",
            "Deprecated call to `pkg_resources.declare_namespace('google.cloud')`.\n",
            "Implementing implicit namespace packages (as specified in PEP 420) is preferred to `pkg_resources.declare_namespace`. See https://setuptools.pypa.io/en/latest/references/keywords.html#keyword-namespace-packages\n",
            "\n",
            "/usr/local/lib/python3.10/dist-packages/pip/_vendor/pkg_resources/__init__.py:2349: DeprecationWarning:\n",
            "\n",
            "Deprecated call to `pkg_resources.declare_namespace('google')`.\n",
            "Implementing implicit namespace packages (as specified in PEP 420) is preferred to `pkg_resources.declare_namespace`. See https://setuptools.pypa.io/en/latest/references/keywords.html#keyword-namespace-packages\n",
            "\n",
            "/usr/local/lib/python3.10/dist-packages/pip/_vendor/pkg_resources/__init__.py:2870: DeprecationWarning:\n",
            "\n",
            "Deprecated call to `pkg_resources.declare_namespace('google')`.\n",
            "Implementing implicit namespace packages (as specified in PEP 420) is preferred to `pkg_resources.declare_namespace`. See https://setuptools.pypa.io/en/latest/references/keywords.html#keyword-namespace-packages\n",
            "\n",
            "/usr/local/lib/python3.10/dist-packages/pip/_vendor/pkg_resources/__init__.py:2870: DeprecationWarning:\n",
            "\n",
            "Deprecated call to `pkg_resources.declare_namespace('google.cloud')`.\n",
            "Implementing implicit namespace packages (as specified in PEP 420) is preferred to `pkg_resources.declare_namespace`. See https://setuptools.pypa.io/en/latest/references/keywords.html#keyword-namespace-packages\n",
            "\n",
            "/usr/local/lib/python3.10/dist-packages/pip/_vendor/pkg_resources/__init__.py:2870: DeprecationWarning:\n",
            "\n",
            "Deprecated call to `pkg_resources.declare_namespace('google')`.\n",
            "Implementing implicit namespace packages (as specified in PEP 420) is preferred to `pkg_resources.declare_namespace`. See https://setuptools.pypa.io/en/latest/references/keywords.html#keyword-namespace-packages\n",
            "\n",
            "/usr/local/lib/python3.10/dist-packages/pip/_vendor/pkg_resources/__init__.py:2870: DeprecationWarning:\n",
            "\n",
            "Deprecated call to `pkg_resources.declare_namespace('google.cloud')`.\n",
            "Implementing implicit namespace packages (as specified in PEP 420) is preferred to `pkg_resources.declare_namespace`. See https://setuptools.pypa.io/en/latest/references/keywords.html#keyword-namespace-packages\n",
            "\n",
            "/usr/local/lib/python3.10/dist-packages/pip/_vendor/pkg_resources/__init__.py:2870: DeprecationWarning:\n",
            "\n",
            "Deprecated call to `pkg_resources.declare_namespace('google')`.\n",
            "Implementing implicit namespace packages (as specified in PEP 420) is preferred to `pkg_resources.declare_namespace`. See https://setuptools.pypa.io/en/latest/references/keywords.html#keyword-namespace-packages\n",
            "\n",
            "/usr/local/lib/python3.10/dist-packages/pip/_vendor/pkg_resources/__init__.py:2870: DeprecationWarning:\n",
            "\n",
            "Deprecated call to `pkg_resources.declare_namespace('google.cloud')`.\n",
            "Implementing implicit namespace packages (as specified in PEP 420) is preferred to `pkg_resources.declare_namespace`. See https://setuptools.pypa.io/en/latest/references/keywords.html#keyword-namespace-packages\n",
            "\n",
            "/usr/local/lib/python3.10/dist-packages/pip/_vendor/pkg_resources/__init__.py:2870: DeprecationWarning:\n",
            "\n",
            "Deprecated call to `pkg_resources.declare_namespace('google')`.\n",
            "Implementing implicit namespace packages (as specified in PEP 420) is preferred to `pkg_resources.declare_namespace`. See https://setuptools.pypa.io/en/latest/references/keywords.html#keyword-namespace-packages\n",
            "\n",
            "/usr/local/lib/python3.10/dist-packages/pip/_vendor/pkg_resources/__init__.py:2870: DeprecationWarning:\n",
            "\n",
            "Deprecated call to `pkg_resources.declare_namespace('google.cloud')`.\n",
            "Implementing implicit namespace packages (as specified in PEP 420) is preferred to `pkg_resources.declare_namespace`. See https://setuptools.pypa.io/en/latest/references/keywords.html#keyword-namespace-packages\n",
            "\n",
            "/usr/local/lib/python3.10/dist-packages/pip/_vendor/pkg_resources/__init__.py:2870: DeprecationWarning:\n",
            "\n",
            "Deprecated call to `pkg_resources.declare_namespace('google')`.\n",
            "Implementing implicit namespace packages (as specified in PEP 420) is preferred to `pkg_resources.declare_namespace`. See https://setuptools.pypa.io/en/latest/references/keywords.html#keyword-namespace-packages\n",
            "\n",
            "/usr/local/lib/python3.10/dist-packages/pip/_vendor/pkg_resources/__init__.py:2870: DeprecationWarning:\n",
            "\n",
            "Deprecated call to `pkg_resources.declare_namespace('google.cloud')`.\n",
            "Implementing implicit namespace packages (as specified in PEP 420) is preferred to `pkg_resources.declare_namespace`. See https://setuptools.pypa.io/en/latest/references/keywords.html#keyword-namespace-packages\n",
            "\n",
            "/usr/local/lib/python3.10/dist-packages/pip/_vendor/pkg_resources/__init__.py:2870: DeprecationWarning:\n",
            "\n",
            "Deprecated call to `pkg_resources.declare_namespace('google')`.\n",
            "Implementing implicit namespace packages (as specified in PEP 420) is preferred to `pkg_resources.declare_namespace`. See https://setuptools.pypa.io/en/latest/references/keywords.html#keyword-namespace-packages\n",
            "\n",
            "/usr/local/lib/python3.10/dist-packages/pip/_vendor/pkg_resources/__init__.py:2870: DeprecationWarning:\n",
            "\n",
            "Deprecated call to `pkg_resources.declare_namespace('google.cloud')`.\n",
            "Implementing implicit namespace packages (as specified in PEP 420) is preferred to `pkg_resources.declare_namespace`. See https://setuptools.pypa.io/en/latest/references/keywords.html#keyword-namespace-packages\n",
            "\n",
            "/usr/local/lib/python3.10/dist-packages/pip/_vendor/pkg_resources/__init__.py:2870: DeprecationWarning:\n",
            "\n",
            "Deprecated call to `pkg_resources.declare_namespace('google')`.\n",
            "Implementing implicit namespace packages (as specified in PEP 420) is preferred to `pkg_resources.declare_namespace`. See https://setuptools.pypa.io/en/latest/references/keywords.html#keyword-namespace-packages\n",
            "\n",
            "/usr/local/lib/python3.10/dist-packages/pip/_vendor/pkg_resources/__init__.py:2870: DeprecationWarning:\n",
            "\n",
            "Deprecated call to `pkg_resources.declare_namespace('google.cloud')`.\n",
            "Implementing implicit namespace packages (as specified in PEP 420) is preferred to `pkg_resources.declare_namespace`. See https://setuptools.pypa.io/en/latest/references/keywords.html#keyword-namespace-packages\n",
            "\n",
            "/usr/local/lib/python3.10/dist-packages/pip/_vendor/pkg_resources/__init__.py:2870: DeprecationWarning:\n",
            "\n",
            "Deprecated call to `pkg_resources.declare_namespace('google')`.\n",
            "Implementing implicit namespace packages (as specified in PEP 420) is preferred to `pkg_resources.declare_namespace`. See https://setuptools.pypa.io/en/latest/references/keywords.html#keyword-namespace-packages\n",
            "\n",
            "/usr/local/lib/python3.10/dist-packages/pip/_vendor/pkg_resources/__init__.py:2870: DeprecationWarning:\n",
            "\n",
            "Deprecated call to `pkg_resources.declare_namespace('google.cloud')`.\n",
            "Implementing implicit namespace packages (as specified in PEP 420) is preferred to `pkg_resources.declare_namespace`. See https://setuptools.pypa.io/en/latest/references/keywords.html#keyword-namespace-packages\n",
            "\n",
            "/usr/local/lib/python3.10/dist-packages/pip/_vendor/pkg_resources/__init__.py:2870: DeprecationWarning:\n",
            "\n",
            "Deprecated call to `pkg_resources.declare_namespace('google')`.\n",
            "Implementing implicit namespace packages (as specified in PEP 420) is preferred to `pkg_resources.declare_namespace`. See https://setuptools.pypa.io/en/latest/references/keywords.html#keyword-namespace-packages\n",
            "\n",
            "/usr/local/lib/python3.10/dist-packages/pip/_vendor/pkg_resources/__init__.py:2870: DeprecationWarning:\n",
            "\n",
            "Deprecated call to `pkg_resources.declare_namespace('google.cloud')`.\n",
            "Implementing implicit namespace packages (as specified in PEP 420) is preferred to `pkg_resources.declare_namespace`. See https://setuptools.pypa.io/en/latest/references/keywords.html#keyword-namespace-packages\n",
            "\n",
            "/usr/local/lib/python3.10/dist-packages/pip/_vendor/pkg_resources/__init__.py:2870: DeprecationWarning:\n",
            "\n",
            "Deprecated call to `pkg_resources.declare_namespace('google')`.\n",
            "Implementing implicit namespace packages (as specified in PEP 420) is preferred to `pkg_resources.declare_namespace`. See https://setuptools.pypa.io/en/latest/references/keywords.html#keyword-namespace-packages\n",
            "\n",
            "/usr/local/lib/python3.10/dist-packages/pip/_vendor/pkg_resources/__init__.py:2870: DeprecationWarning:\n",
            "\n",
            "Deprecated call to `pkg_resources.declare_namespace('google')`.\n",
            "Implementing implicit namespace packages (as specified in PEP 420) is preferred to `pkg_resources.declare_namespace`. See https://setuptools.pypa.io/en/latest/references/keywords.html#keyword-namespace-packages\n",
            "\n",
            "/usr/local/lib/python3.10/dist-packages/pip/_vendor/pkg_resources/__init__.py:2870: DeprecationWarning:\n",
            "\n",
            "Deprecated call to `pkg_resources.declare_namespace('google.logging')`.\n",
            "Implementing implicit namespace packages (as specified in PEP 420) is preferred to `pkg_resources.declare_namespace`. See https://setuptools.pypa.io/en/latest/references/keywords.html#keyword-namespace-packages\n",
            "\n",
            "/usr/local/lib/python3.10/dist-packages/pip/_vendor/pkg_resources/__init__.py:2349: DeprecationWarning:\n",
            "\n",
            "Deprecated call to `pkg_resources.declare_namespace('google')`.\n",
            "Implementing implicit namespace packages (as specified in PEP 420) is preferred to `pkg_resources.declare_namespace`. See https://setuptools.pypa.io/en/latest/references/keywords.html#keyword-namespace-packages\n",
            "\n",
            "/usr/local/lib/python3.10/dist-packages/pip/_vendor/pkg_resources/__init__.py:2870: DeprecationWarning:\n",
            "\n",
            "Deprecated call to `pkg_resources.declare_namespace('google')`.\n",
            "Implementing implicit namespace packages (as specified in PEP 420) is preferred to `pkg_resources.declare_namespace`. See https://setuptools.pypa.io/en/latest/references/keywords.html#keyword-namespace-packages\n",
            "\n",
            "/usr/local/lib/python3.10/dist-packages/pip/_vendor/pkg_resources/__init__.py:2870: DeprecationWarning:\n",
            "\n",
            "Deprecated call to `pkg_resources.declare_namespace('google.iam')`.\n",
            "Implementing implicit namespace packages (as specified in PEP 420) is preferred to `pkg_resources.declare_namespace`. See https://setuptools.pypa.io/en/latest/references/keywords.html#keyword-namespace-packages\n",
            "\n",
            "/usr/local/lib/python3.10/dist-packages/pip/_vendor/pkg_resources/__init__.py:2349: DeprecationWarning:\n",
            "\n",
            "Deprecated call to `pkg_resources.declare_namespace('google')`.\n",
            "Implementing implicit namespace packages (as specified in PEP 420) is preferred to `pkg_resources.declare_namespace`. See https://setuptools.pypa.io/en/latest/references/keywords.html#keyword-namespace-packages\n",
            "\n",
            "/usr/local/lib/python3.10/dist-packages/pip/_vendor/pkg_resources/__init__.py:2870: DeprecationWarning:\n",
            "\n",
            "Deprecated call to `pkg_resources.declare_namespace('mpl_toolkits')`.\n",
            "Implementing implicit namespace packages (as specified in PEP 420) is preferred to `pkg_resources.declare_namespace`. See https://setuptools.pypa.io/en/latest/references/keywords.html#keyword-namespace-packages\n",
            "\n",
            "/usr/local/lib/python3.10/dist-packages/pip/_vendor/pkg_resources/__init__.py:2870: DeprecationWarning:\n",
            "\n",
            "Deprecated call to `pkg_resources.declare_namespace('google')`.\n",
            "Implementing implicit namespace packages (as specified in PEP 420) is preferred to `pkg_resources.declare_namespace`. See https://setuptools.pypa.io/en/latest/references/keywords.html#keyword-namespace-packages\n",
            "\n",
            "/usr/local/lib/python3.10/dist-packages/pip/_vendor/pkg_resources/__init__.py:2870: DeprecationWarning:\n",
            "\n",
            "Deprecated call to `pkg_resources.declare_namespace('sphinxcontrib')`.\n",
            "Implementing implicit namespace packages (as specified in PEP 420) is preferred to `pkg_resources.declare_namespace`. See https://setuptools.pypa.io/en/latest/references/keywords.html#keyword-namespace-packages\n",
            "\n",
            "/usr/lib/python3.10/pkgutil.py:92: UserWarning: viewer requires Qt\n",
            "/usr/local/lib/python3.10/dist-packages/setuptools/command/build_ext.py:8: DeprecationWarning: The distutils package is deprecated and slated for removal in Python 3.12. Use setuptools or check PEP 632 for potential alternatives\n",
            "/usr/lib/python3.10/distutils/command/build_ext.py:13: DeprecationWarning: The distutils.sysconfig module is deprecated, use sysconfig instead\n",
            "/usr/local/lib/python3.10/dist-packages/tensorboard/_vendor/html5lib/filters/sanitizer.py:29: DeprecationWarning: html5lib's sanitizer is deprecated; see https://github.com/html5lib/html5lib-python/issues/443 and please let us know if Bleach is unsuitable for your needs\n",
            "/usr/local/lib/python3.10/dist-packages/torch/distributed/_shard/checkpoint/__init__.py:8: DeprecationWarning: torch.distributed._shard.checkpoint will be deprecated, use torch.distributed.checkpoint instead\n",
            "/usr/local/lib/python3.10/dist-packages/torch/distributed/_sharded_tensor/__init__.py:8: DeprecationWarning: torch.distributed._sharded_tensor will be deprecated, use torch.distributed._shard.sharded_tensor instead\n",
            "/usr/local/lib/python3.10/dist-packages/torch/distributed/_sharding_spec/__init__.py:8: DeprecationWarning: torch.distributed._sharding_spec will be deprecated, use torch.distributed._shard.sharding_spec instead\n",
            "No CUDA runtime is found, using CUDA_HOME='/usr/local/cuda'\n",
            "/usr/local/lib/python3.10/dist-packages/torchvision/datapoints/__init__.py:12: UserWarning: The torchvision.datapoints and torchvision.transforms.v2 namespaces are still Beta. While we do not expect major breaking changes, some APIs may still change according to user feedback. Please submit any feedback you may have in this issue: https://github.com/pytorch/vision/issues/6753, and you can also check out https://github.com/pytorch/vision/issues/7319 to learn more about the APIs that we suspect might involve future changes. You can silence this warning by calling torchvision.disable_beta_transforms_warning().\n",
            "/usr/local/lib/python3.10/dist-packages/torchvision/transforms/v2/__init__.py:54: UserWarning: The torchvision.datapoints and torchvision.transforms.v2 namespaces are still Beta. While we do not expect major breaking changes, some APIs may still change according to user feedback. Please submit any feedback you may have in this issue: https://github.com/pytorch/vision/issues/6753, and you can also check out https://github.com/pytorch/vision/issues/7319 to learn more about the APIs that we suspect might involve future changes. You can silence this warning by calling torchvision.disable_beta_transforms_warning().\n",
            "/usr/lib/python3.10/pkgutil.py:107: VisibleDeprecationWarning: zmq.eventloop.minitornado is deprecated in pyzmq 14.0 and will be removed.\n",
            "    Install tornado itself to use zmq with the tornado IOLoop.\n",
            "    \n"
          ]
        },
        {
          "output_type": "stream",
          "name": "stdout",
          "text": [
            "Cython              collections         kaggle              requests_oauthlib\n",
            "IPython             colorcet            kanren              requirements\n",
            "OpenGL              colorlover          keras               resource\n",
            "OpenSSL             colorsys            keyring             rich\n",
            "PIL                 colour              keyword             rlcompleter\n",
            "__future__          community           kiwisolver          rmagic\n",
            "_abc                compileall          langcodes           rpds\n",
            "_aix_support        concurrent          launchpadlib        rpy2\n",
            "_argon2_cffi_bindings confection          lazy_loader         rsa\n",
            "_ast                configparser        lib2to3             runpy\n",
            "_asyncio            cons                libfuturize         sched\n",
            "_bisect             contextlib          libpasteurize       scipy\n",
            "_blake2             contextlib2         librosa             scooby\n",
            "_bootsubprocess     contextvars         lightgbm            scs\n",
            "_bz2                contourpy           linecache           seaborn\n",
            "_cffi_backend       convertdate         linkify_it          secrets\n",
            "_codecs             copy                lit                 secretstorage\n",
            "_codecs_cn          copyreg             llvmlite            select\n",
            "_codecs_hk          cpuinfo             locale              selectors\n",
            "_codecs_iso2022     crypt               locket              send2trash\n",
            "_codecs_jp          cryptography        logging             setuptools\n",
            "_codecs_kr          csv                 lsb_release         shapefile\n",
            "_codecs_tw          ctypes              lunarcalendar       shapely\n",
            "_collections        cufflinks           lxml                shelve\n",
            "_collections_abc    curses              lzma                shlex\n",
            "_compat_pickle      cv2                 mailbox             shutil\n",
            "_compression        cvxopt              mailcap             signal\n",
            "_contextvars        cvxpy               markdown            site\n",
            "_crypt              cycler              markdown_it         sitecustomize\n",
            "_csv                cymem               markupsafe          six\n",
            "_ctypes             cython              marshal             skimage\n",
            "_ctypes_test        cythonmagic         math                sklearn\n",
            "_curses             dask                matplotlib          sklearn_pandas\n",
            "_curses_panel       dataclasses         matplotlib_inline   slugify\n",
            "_cvxcore            datascience         matplotlib_venn     smart_open\n",
            "_datetime           datetime            mdit_py_plugins     smtpd\n",
            "_dbm                dateutil            mdurl               smtplib\n",
            "_dbus_bindings      db_dtypes           mimetypes           sndhdr\n",
            "_dbus_glib_bindings dbm                 missingno           sniffio\n",
            "_decimal            dbus                mistune             snowballstemmer\n",
            "_distutils_hack     debugpy             mizani              socket\n",
            "_distutils_system_mod decimal             ml_dtypes           socketserver\n",
            "_dlib_pybind11      decorator           mlxtend             socks\n",
            "_ecos               defusedxml          mmap                sockshandler\n",
            "_elementtree        difflib             modulefinder        softwareproperties\n",
            "_functools          dis                 more_itertools      sortedcontainers\n",
            "_hashlib            distributed         moviepy             soundfile\n",
            "_heapq              distro              mpmath              soupsieve\n",
            "_imp                distutils           msgpack             soxr\n",
            "_io                 dlib                multidict           spacy\n",
            "_json               doctest             multipledispatch    spacy_legacy\n",
            "_locale             docutils            multiprocessing     spacy_loggers\n",
            "_lsprof             dopamine            multitasking        sphinx\n",
            "_lzma               dot_parser          murmurhash          spwd\n",
            "_markupbase         duckdb              music21             sql\n",
            "_md5                easydict            natsort             sqlalchemy\n",
            "_multibytecodec     ecos                nbclassic           sqlite3\n",
            "_multiprocessing    editdistance        nbclient            sqlparse\n",
            "_opcode             ee                  nbconvert           sre_compile\n",
            "_operator           eerepr              nbformat            sre_constants\n",
            "_osx_support        email               nest_asyncio        sre_parse\n",
            "_pickle             en_core_web_sm      netrc               srsly\n",
            "_plotly_future_     encodings           networkx            ssl\n",
            "_plotly_utils       entrypoints         nibabel             stat\n",
            "_posixshmem         enum                nis                 statistics\n",
            "_posixsubprocess    ephem               nisext              statsmodels\n",
            "_py_abc             erfa                nltk                storemagic\n",
            "_pydecimal          errno               nntplib             string\n",
            "_pyio               et_xmlfile          notebook            stringprep\n",
            "_pytest             etils               notebook_shim       struct\n",
            "_queue              etuples             ntpath              subprocess\n",
            "_random             exceptiongroup      nturl2path          sunau\n",
            "_rinterface_cffi_abi fastai              numba               sympy\n",
            "_rinterface_cffi_api fastcore            numbergen           sympyprinting\n",
            "_scs_direct         fastdownload        numbers             symtable\n",
            "_scs_indirect       fastjsonschema      numexpr             sys\n",
            "_sha1               fastprogress        numpy               sysconfig\n",
            "_sha256             fastrlock           nvfuser             syslog\n",
            "_sha3               faulthandler        oauth2client        tables\n",
            "_sha512             fcntl               oauthlib            tabnanny\n",
            "_signal             filecmp             opcode              tabulate\n",
            "_sitebuiltins       fileinput           openpyxl            tarfile\n",
            "_socket             filelock            operator            tblib\n",
            "_soundfile          fiona               opt_einsum          telnetlib\n",
            "_soundfile_data     firebase_admin      optax               tempfile\n",
            "_sqlite3            flask               optparse            tenacity\n",
            "_sre                flatbuffers         os                  tensorboard\n",
            "_ssl                flax                osgeo               tensorboard_data_server\n",
            "_stat               fnmatch             osgeo_utils         tensorflow\n",
            "_statistics         folium              osqp                tensorflow_datasets\n",
            "_string             fontTools           osqppurepy          tensorflow_estimator\n",
            "_strptime           fractions           ossaudiodev         tensorflow_gcs_config\n",
            "_struct             frozendict          packaging           tensorflow_hub\n",
            "_symtable           frozenlist          pandas              tensorflow_io_gcs_filesystem\n",
            "_sysconfigdata__linux_x86_64-linux-gnu fsspec              pandas_datareader   tensorflow_metadata\n",
            "_sysconfigdata__x86_64-linux-gnu ftplib              pandas_gbq          tensorflow_probability\n",
            "_testbuffer         functools           pandocfilters       tensorstore\n",
            "_testcapi           functorch           panel               termcolor\n",
            "_testclinic         future              param               terminado\n",
            "_testimportmultiple gast                parso               termios\n",
            "_testinternalcapi   gc                  partd               test\n",
            "_testmultiphase     gcsfs               past                tests\n",
            "_thread             gdown               pasta               text_unidecode\n",
            "_threading_local    geemap              pathlib             textblob\n",
            "_tkinter            genericpath         pathy               textwrap\n",
            "_tracemalloc        gensim              patsy               tf_slim\n",
            "_uuid               geocoder            pdb                 thinc\n",
            "_warnings           geographiclib       pexpect             this\n",
            "_weakref            geopandas           pickle              threading\n",
            "_weakrefset         geopy               pickleshare         threadpoolctl\n",
            "_xxsubinterpreters  getopt              pickletools         tifffile\n",
            "_xxtestfuzz         getpass             pip                 time\n",
            "_yaml               gettext             pipes               timeit\n",
            "_zoneinfo           gi                  piptools            tinycss2\n",
            "abc                 gin                 pkg_resources       tkinter\n",
            "absl                glob                pkgutil             tlz\n",
            "aifc                glob2               platform            token\n",
            "aiohttp             google_auth_httplib2 platformdirs        tokenize\n",
            "aiosignal           google_auth_oauthlib plistlib            toml\n",
            "alabaster           google_crc32c       plotly              tomli\n",
            "albumentations      google_drive_downloader plotnine            toolz\n",
            "altair              googleapiclient     pluggy              torch\n",
            "antigravity         googlesearch        polars              torchaudio\n",
            "anyio               graphlib            pooch               torchdata\n",
            "apiclient           graphviz            poplib              torchgen\n",
            "appdirs             greenlet            portpicker          torchsummary\n",
            "apt                 grp                 posix               torchtext\n",
            "apt_inst            grpc                posixpath           torchvision\n",
            "apt_pkg             grpc_status         pprint              tornado\n",
            "aptsources          gspread             prefetch_generator  tqdm\n",
            "argon2              gspread_dataframe   preshed             trace\n",
            "argparse            gym                 prettytable         traceback\n",
            "array               gym_notices         profile             tracemalloc\n",
            "array_record        gzip                proglog             traitlets\n",
            "arviz               h5netcdf            progressbar         traittypes\n",
            "ast                 h5py                prometheus_client   tree\n",
            "astropy             hashlib             promise             triton\n",
            "astunparse          heapq               prompt_toolkit      tty\n",
            "async_timeout       hmac                prophet             turtle\n",
            "asynchat            holidays            proto               tweepy\n",
            "asyncio             holoviews           pstats              typer\n",
            "asyncore            html                psutil              types\n",
            "atexit              html5lib            psycopg2            typing\n",
            "attr                http                pty                 typing_extensions\n",
            "attrs               httpimport          ptyprocess          tzlocal\n",
            "audioop             httplib2            pwd                 uc_micro\n",
            "audioread           humanize            py                  unicodedata\n",
            "autograd            hyperopt            py4j                unification\n",
            "autoreload          idna                py_compile          unittest\n",
            "babel               imageio             pyarrow             uritemplate\n",
            "backcall            imageio_ffmpeg      pyasn1              urllib\n",
            "base64              imagesize           pyasn1_modules      urllib3\n",
            "bdb                 imaplib             pyclbr              uu\n",
            "bin                 imblearn            pycocotools         uuid\n",
            "binascii            imgaug              pycparser           vega_datasets\n",
            "binhex              imghdr              pyct                venv\n",
            "bisect              imp                 pydantic            wadllib\n",
            "bleach              importlib           pydata_google_auth  warnings\n",
            "blinker             importlib_metadata  pydoc               wasabi\n",
            "blis                importlib_resources pydoc_data          wave\n",
            "blosc2              imutils             pydot               wcwidth\n",
            "bokeh               inflect             pydot_ng            weakref\n",
            "boost               iniconfig           pydotplus           webbrowser\n",
            "box                 inspect             pydrive             webcolors\n",
            "bqplot              io                  pydrive2            webencodings\n",
            "branca              ipaddress           pyexpat             websocket\n",
            "bs4                 ipyevents           pygame              werkzeug\n",
            "build               ipyfilechooser      pygments            wheel\n",
            "builtins            ipykernel           pygtkcompat         widgetsnbextension\n",
            "bz2                 ipykernel_launcher  pylab               wordcloud\n",
            "cProfile            ipyleaflet          pymc                wrapt\n",
            "cachecontrol        ipython_genutils    pymeeus             wsgiref\n",
            "cachetools          ipytree             pymystem3           xarray\n",
            "calendar            ipywidgets          pyparsing           xarray_einstats\n",
            "catalogue           isympy              pyperclip           xdrlib\n",
            "certifi             itertools           pyproj              xgboost\n",
            "cffi                itsdangerous        pyproject_hooks     xlrd\n",
            "cgi                 jax                 pytensor            xml\n",
            "cgitb               jaxlib              pytest              xmlrpc\n",
            "chardet             jeepney             python_utils        xxlimited\n",
            "charset_normalizer  jieba               pytz                xxlimited_35\n",
            "chex                jinja2              pyviz_comms         xxsubtype\n",
            "chunk               joblib              pywt                xyzservices\n",
            "clang               json                pyximport           yaml\n",
            "click               jsonpickle          qdldl               yarl\n",
            "click_plugins       jsonschema          qudida              yellowbrick\n",
            "cligj               jsonschema_specifications queue               yfinance\n",
            "cloudpickle         jupyter             quopri              zict\n",
            "cmake               jupyter_client      random              zipapp\n",
            "cmath               jupyter_console     ratelim             zipfile\n",
            "cmd                 jupyter_core        re                  zipimport\n",
            "cmdstanpy           jupyter_server      readline            zipp\n",
            "code                jupyterlab_plotly   referencing         zlib\n",
            "codecs              jupyterlab_pygments regex               zmq\n",
            "codeop              jupyterlab_widgets  reprlib             zoneinfo\n",
            "colab_kernel_launcher jwt                 requests            \n",
            "\n",
            "Enter any module name to get more help.  Or, type \"modules spam\" to search\n",
            "for modules whose name or summary contain the string \"spam\".\n",
            "\n"
          ]
        }
      ]
    },
    {
      "cell_type": "markdown",
      "source": [
        "## Loops in Python\n",
        "\n",
        "- Need for loops\n",
        "- While Loop\n",
        "- For Loop"
      ],
      "metadata": {
        "id": "2P9rzgfXQzgh"
      }
    },
    {
      "cell_type": "code",
      "source": [
        "# while loop"
      ],
      "metadata": {
        "colab": {
          "base_uri": "https://localhost:8080/"
        },
        "id": "bvcTmbRApPTg",
        "outputId": "70c96771-5315-4a66-ce65-e2ae81ed362a"
      },
      "execution_count": null,
      "outputs": [
        {
          "output_type": "stream",
          "name": "stderr",
          "text": [
            "/usr/local/lib/python3.10/dist-packages/ipykernel/ipkernel.py:283: DeprecationWarning: `should_run_async` will not call `transform_cell` automatically in the future. Please pass the result to `transformed_cell` argument and any exception that happen during thetransform in `preprocessing_exc_tuple` in IPython 7.17 and above.\n"
          ]
        }
      ]
    },
    {
      "cell_type": "code",
      "source": [
        "number = int(input(\"Enter the Number :\"))\n",
        "i = 1\n",
        "while i<11:\n",
        "  print(number,\"*\",i,'=',number * i)\n",
        "  i += 1"
      ],
      "metadata": {
        "colab": {
          "base_uri": "https://localhost:8080/"
        },
        "id": "xz47NRrYpfBE",
        "outputId": "b80b16f4-96e0-417d-d7fd-8cc2f3c982be"
      },
      "execution_count": null,
      "outputs": [
        {
          "output_type": "stream",
          "name": "stderr",
          "text": [
            "/usr/local/lib/python3.10/dist-packages/ipykernel/ipkernel.py:283: DeprecationWarning: `should_run_async` will not call `transform_cell` automatically in the future. Please pass the result to `transformed_cell` argument and any exception that happen during thetransform in `preprocessing_exc_tuple` in IPython 7.17 and above.\n"
          ]
        },
        {
          "output_type": "stream",
          "name": "stdout",
          "text": [
            "Enter the Number :13\n",
            "13 * 1 = 13\n",
            "13 * 2 = 26\n",
            "13 * 3 = 39\n",
            "13 * 4 = 52\n",
            "13 * 5 = 65\n",
            "13 * 6 = 78\n",
            "13 * 7 = 91\n",
            "13 * 8 = 104\n",
            "13 * 9 = 117\n",
            "13 * 10 = 130\n"
          ]
        }
      ]
    },
    {
      "cell_type": "code",
      "source": [
        "# while loop with else\n",
        "x = 1\n",
        "\n",
        "while x<6:\n",
        "  print(x)\n",
        "  x += 1\n",
        "\n",
        "else:\n",
        "  print(\"Limit Crossed!\")"
      ],
      "metadata": {
        "colab": {
          "base_uri": "https://localhost:8080/"
        },
        "id": "AuS_j2q2p71c",
        "outputId": "60e0cfad-0ce6-494e-ca06-281e41c18111"
      },
      "execution_count": null,
      "outputs": [
        {
          "output_type": "stream",
          "name": "stdout",
          "text": [
            "1\n",
            "2\n",
            "3\n",
            "4\n",
            "5\n",
            "Limit Crossed!\n"
          ]
        },
        {
          "output_type": "stream",
          "name": "stderr",
          "text": [
            "/usr/local/lib/python3.10/dist-packages/ipykernel/ipkernel.py:283: DeprecationWarning: `should_run_async` will not call `transform_cell` automatically in the future. Please pass the result to `transformed_cell` argument and any exception that happen during thetransform in `preprocessing_exc_tuple` in IPython 7.17 and above.\n"
          ]
        }
      ]
    },
    {
      "cell_type": "code",
      "source": [
        "# generate a random integer between 1 and 100\n",
        "import random\n",
        "jackpot = random.randint(1,100)\n",
        "# print(jackpot)\n",
        "# taking input from user\n",
        "guess = int(input(\"Guess the Number :\"))\n",
        "\n",
        "counter = 1\n",
        "while guess != jackpot :\n",
        "  if guess > jackpot :\n",
        "    print(\"Incorrect! Guess Lower!\")\n",
        "  elif guess < jackpot:\n",
        "    print(\"Incorrect! Guess Higher!\")\n",
        "  guess = int(input(\"Guess the Number :\"))\n",
        "  counter += 1\n",
        "else:\n",
        "  print(\"Correct Guess! Well Done!\",\"No. of attempts =\",counter)"
      ],
      "metadata": {
        "colab": {
          "base_uri": "https://localhost:8080/"
        },
        "id": "s9hFgCsZtOcm",
        "outputId": "b966bc71-f7a1-43c8-ba47-d18320aaf85d"
      },
      "execution_count": null,
      "outputs": [
        {
          "output_type": "stream",
          "name": "stderr",
          "text": [
            "/usr/local/lib/python3.10/dist-packages/ipykernel/ipkernel.py:283: DeprecationWarning: `should_run_async` will not call `transform_cell` automatically in the future. Please pass the result to `transformed_cell` argument and any exception that happen during thetransform in `preprocessing_exc_tuple` in IPython 7.17 and above.\n"
          ]
        },
        {
          "output_type": "stream",
          "name": "stdout",
          "text": [
            "Guess the Number :50\n",
            "Incorrect! Guess Higher!\n",
            "Guess the Number :75\n",
            "Incorrect! Guess Higher!\n",
            "Guess the Number :85\n",
            "Incorrect! Guess Higher!\n",
            "Guess the Number :95\n",
            "Incorrect! Guess Lower!\n",
            "Guess the Number :90\n",
            "Incorrect! Guess Higher!\n",
            "Guess the Number :91\n",
            "Incorrect! Guess Higher!\n",
            "Guess the Number :92\n",
            "Incorrect! Guess Higher!\n",
            "Guess the Number :93\n",
            "Incorrect! Guess Higher!\n",
            "Guess the Number :94\n",
            "Correct Guess! Well Done! No. of attempts = 9\n"
          ]
        }
      ]
    },
    {
      "cell_type": "code",
      "source": [
        "# For Loop demo\n",
        "for i in range(1,11):\n",
        "  print(i)"
      ],
      "metadata": {
        "colab": {
          "base_uri": "https://localhost:8080/"
        },
        "id": "A7C22Y7dtwjk",
        "outputId": "502f8bd5-8de3-4990-95c6-fa4506802655"
      },
      "execution_count": null,
      "outputs": [
        {
          "output_type": "stream",
          "name": "stdout",
          "text": [
            "1\n",
            "2\n",
            "3\n",
            "4\n",
            "5\n",
            "6\n",
            "7\n",
            "8\n",
            "9\n",
            "10\n"
          ]
        },
        {
          "output_type": "stream",
          "name": "stderr",
          "text": [
            "/usr/local/lib/python3.10/dist-packages/ipykernel/ipkernel.py:283: DeprecationWarning: `should_run_async` will not call `transform_cell` automatically in the future. Please pass the result to `transformed_cell` argument and any exception that happen during thetransform in `preprocessing_exc_tuple` in IPython 7.17 and above.\n"
          ]
        }
      ]
    },
    {
      "cell_type": "code",
      "source": [
        "# step size\n",
        "for i in range(1,11,2):\n",
        "  print(i)"
      ],
      "metadata": {
        "colab": {
          "base_uri": "https://localhost:8080/"
        },
        "id": "uvEy6Hw13zFQ",
        "outputId": "8ebf1af6-5d2e-4180-9ce2-ac75f87dbbcc"
      },
      "execution_count": null,
      "outputs": [
        {
          "output_type": "stream",
          "name": "stdout",
          "text": [
            "1\n",
            "3\n",
            "5\n",
            "7\n",
            "9\n"
          ]
        },
        {
          "output_type": "stream",
          "name": "stderr",
          "text": [
            "/usr/local/lib/python3.10/dist-packages/ipykernel/ipkernel.py:283: DeprecationWarning: `should_run_async` will not call `transform_cell` automatically in the future. Please pass the result to `transformed_cell` argument and any exception that happen during thetransform in `preprocessing_exc_tuple` in IPython 7.17 and above.\n"
          ]
        }
      ]
    },
    {
      "cell_type": "code",
      "source": [
        "# Negatice Indexing\n",
        "for i in range(10,0,-1):\n",
        "  print(i)"
      ],
      "metadata": {
        "colab": {
          "base_uri": "https://localhost:8080/"
        },
        "id": "rjF4LSpx4vnA",
        "outputId": "ebac3efa-6e86-4478-9583-555dbd1ff380"
      },
      "execution_count": null,
      "outputs": [
        {
          "output_type": "stream",
          "name": "stdout",
          "text": [
            "10\n",
            "9\n",
            "8\n",
            "7\n",
            "6\n",
            "5\n",
            "4\n",
            "3\n",
            "2\n",
            "1\n"
          ]
        },
        {
          "output_type": "stream",
          "name": "stderr",
          "text": [
            "/usr/local/lib/python3.10/dist-packages/ipykernel/ipkernel.py:283: DeprecationWarning: `should_run_async` will not call `transform_cell` automatically in the future. Please pass the result to `transformed_cell` argument and any exception that happen during thetransform in `preprocessing_exc_tuple` in IPython 7.17 and above.\n"
          ]
        }
      ]
    },
    {
      "cell_type": "code",
      "source": [
        "for i in \"Shubham\":\n",
        "  print(i)"
      ],
      "metadata": {
        "colab": {
          "base_uri": "https://localhost:8080/"
        },
        "id": "3PDqQbgA5Tby",
        "outputId": "8a68e832-8bca-4b1d-98bc-23f063bbcdc5"
      },
      "execution_count": null,
      "outputs": [
        {
          "output_type": "stream",
          "name": "stdout",
          "text": [
            "S\n",
            "h\n",
            "u\n",
            "b\n",
            "h\n",
            "a\n",
            "m\n"
          ]
        },
        {
          "output_type": "stream",
          "name": "stderr",
          "text": [
            "/usr/local/lib/python3.10/dist-packages/ipykernel/ipkernel.py:283: DeprecationWarning: `should_run_async` will not call `transform_cell` automatically in the future. Please pass the result to `transformed_cell` argument and any exception that happen during thetransform in `preprocessing_exc_tuple` in IPython 7.17 and above.\n"
          ]
        }
      ]
    },
    {
      "cell_type": "code",
      "source": [
        "for i in \"Shubham\":\n",
        "  print(i,end=\"-\")"
      ],
      "metadata": {
        "colab": {
          "base_uri": "https://localhost:8080/"
        },
        "id": "9zKvJ0QI5da-",
        "outputId": "2ca062f9-c167-4f7b-ed0c-286ec20d1380"
      },
      "execution_count": null,
      "outputs": [
        {
          "output_type": "stream",
          "name": "stdout",
          "text": [
            "S-h-u-b-h-a-m-"
          ]
        },
        {
          "output_type": "stream",
          "name": "stderr",
          "text": [
            "/usr/local/lib/python3.10/dist-packages/ipykernel/ipkernel.py:283: DeprecationWarning: `should_run_async` will not call `transform_cell` automatically in the future. Please pass the result to `transformed_cell` argument and any exception that happen during thetransform in `preprocessing_exc_tuple` in IPython 7.17 and above.\n"
          ]
        }
      ]
    },
    {
      "cell_type": "code",
      "source": [
        "for i in [1,2,3,4,5]:\n",
        "  print(i)"
      ],
      "metadata": {
        "colab": {
          "base_uri": "https://localhost:8080/"
        },
        "id": "RXIG6wk66Gja",
        "outputId": "17f567e2-efb1-46ab-cc5d-4142d130741e"
      },
      "execution_count": null,
      "outputs": [
        {
          "output_type": "stream",
          "name": "stdout",
          "text": [
            "1\n",
            "2\n",
            "3\n",
            "4\n",
            "5\n"
          ]
        },
        {
          "output_type": "stream",
          "name": "stderr",
          "text": [
            "/usr/local/lib/python3.10/dist-packages/ipykernel/ipkernel.py:283: DeprecationWarning: `should_run_async` will not call `transform_cell` automatically in the future. Please pass the result to `transformed_cell` argument and any exception that happen during thetransform in `preprocessing_exc_tuple` in IPython 7.17 and above.\n"
          ]
        }
      ]
    },
    {
      "cell_type": "code",
      "source": [
        "for i in (1,2,3,4,5):\n",
        "  print(i)"
      ],
      "metadata": {
        "colab": {
          "base_uri": "https://localhost:8080/"
        },
        "id": "_ZAzBrnd6Sm-",
        "outputId": "e3990ede-7b8a-44dc-9c52-6c1a2bdbf12f"
      },
      "execution_count": null,
      "outputs": [
        {
          "output_type": "stream",
          "name": "stdout",
          "text": [
            "1\n",
            "2\n",
            "3\n",
            "4\n",
            "5\n"
          ]
        },
        {
          "output_type": "stream",
          "name": "stderr",
          "text": [
            "/usr/local/lib/python3.10/dist-packages/ipykernel/ipkernel.py:283: DeprecationWarning: `should_run_async` will not call `transform_cell` automatically in the future. Please pass the result to `transformed_cell` argument and any exception that happen during thetransform in `preprocessing_exc_tuple` in IPython 7.17 and above.\n"
          ]
        }
      ]
    },
    {
      "cell_type": "code",
      "source": [
        "for i in {1,2,3,4,5}:\n",
        "  print(i)"
      ],
      "metadata": {
        "colab": {
          "base_uri": "https://localhost:8080/"
        },
        "id": "8kWa2Qmd6Xtc",
        "outputId": "89683f0d-2139-4cf9-b16e-1b92638e4806"
      },
      "execution_count": null,
      "outputs": [
        {
          "output_type": "stream",
          "name": "stdout",
          "text": [
            "1\n",
            "2\n",
            "3\n",
            "4\n",
            "5\n"
          ]
        },
        {
          "output_type": "stream",
          "name": "stderr",
          "text": [
            "/usr/local/lib/python3.10/dist-packages/ipykernel/ipkernel.py:283: DeprecationWarning: `should_run_async` will not call `transform_cell` automatically in the future. Please pass the result to `transformed_cell` argument and any exception that happen during thetransform in `preprocessing_exc_tuple` in IPython 7.17 and above.\n"
          ]
        }
      ]
    },
    {
      "cell_type": "code",
      "source": [
        "for i in {'name' : \"shubham\", 'age' : 22, 'gender' : \"Male\"}:\n",
        "  print(i)"
      ],
      "metadata": {
        "colab": {
          "base_uri": "https://localhost:8080/"
        },
        "id": "bbaUt8AK6eAz",
        "outputId": "4389b2fc-bd6d-4749-8026-02c384d2520e"
      },
      "execution_count": null,
      "outputs": [
        {
          "output_type": "stream",
          "name": "stdout",
          "text": [
            "name\n",
            "age\n",
            "gender\n"
          ]
        },
        {
          "output_type": "stream",
          "name": "stderr",
          "text": [
            "/usr/local/lib/python3.10/dist-packages/ipykernel/ipkernel.py:283: DeprecationWarning: `should_run_async` will not call `transform_cell` automatically in the future. Please pass the result to `transformed_cell` argument and any exception that happen during thetransform in `preprocessing_exc_tuple` in IPython 7.17 and above.\n"
          ]
        }
      ]
    },
    {
      "cell_type": "code",
      "source": [
        "# for loop examples"
      ],
      "metadata": {
        "id": "72abY2kV6vrU"
      },
      "execution_count": null,
      "outputs": []
    },
    {
      "cell_type": "markdown",
      "source": [
        "### Program - The current population of a town is 10000. The population of the town is increasing at the rate of 10% per year. You have to write a program to find out the population at the end of each of the last 10 years."
      ],
      "metadata": {
        "id": "FS5pNnb77v0U"
      }
    },
    {
      "cell_type": "code",
      "source": [
        "import math\n",
        "population = 10000\n",
        "year = 2023\n",
        "for i in range(1,11):\n",
        "  print(year,':',math.floor(population))\n",
        "  year -= 1\n",
        "  population = population - (population * 10/110)"
      ],
      "metadata": {
        "colab": {
          "base_uri": "https://localhost:8080/"
        },
        "id": "pSLnbdb97umV",
        "outputId": "b41946ab-f726-4ba7-d0db-f7eafc888d4e"
      },
      "execution_count": null,
      "outputs": [
        {
          "output_type": "stream",
          "name": "stdout",
          "text": [
            "2023 : 10000\n",
            "2022 : 9090\n",
            "2021 : 8264\n",
            "2020 : 7513\n",
            "2019 : 6830\n",
            "2018 : 6209\n",
            "2017 : 5644\n",
            "2016 : 5131\n",
            "2015 : 4665\n",
            "2014 : 4240\n"
          ]
        },
        {
          "output_type": "stream",
          "name": "stderr",
          "text": [
            "/usr/local/lib/python3.10/dist-packages/ipykernel/ipkernel.py:283: DeprecationWarning: `should_run_async` will not call `transform_cell` automatically in the future. Please pass the result to `transformed_cell` argument and any exception that happen during thetransform in `preprocessing_exc_tuple` in IPython 7.17 and above.\n"
          ]
        }
      ]
    },
    {
      "cell_type": "code",
      "source": [
        "# alternatively\n",
        "import math\n",
        "population = 10000\n",
        "year = 2023\n",
        "for i in range(10,0,-1):\n",
        "  print(year,population)\n",
        "  year -= 1\n",
        "  population = population - (population * 1/11)"
      ],
      "metadata": {
        "colab": {
          "base_uri": "https://localhost:8080/"
        },
        "id": "KEoL8_ZZ9HfP",
        "outputId": "59823554-ba51-4d71-a004-543558ddc1ff"
      },
      "execution_count": null,
      "outputs": [
        {
          "output_type": "stream",
          "name": "stdout",
          "text": [
            "2023 10000\n",
            "2022 9090.90909090909\n",
            "2021 8264.462809917355\n",
            "2020 7513.1480090157775\n",
            "2019 6830.134553650707\n",
            "2018 6209.213230591552\n",
            "2017 5644.739300537774\n",
            "2016 5131.581182307067\n",
            "2015 4665.073802097334\n",
            "2014 4240.976183724849\n"
          ]
        },
        {
          "output_type": "stream",
          "name": "stderr",
          "text": [
            "/usr/local/lib/python3.10/dist-packages/ipykernel/ipkernel.py:283: DeprecationWarning: `should_run_async` will not call `transform_cell` automatically in the future. Please pass the result to `transformed_cell` argument and any exception that happen during thetransform in `preprocessing_exc_tuple` in IPython 7.17 and above.\n"
          ]
        }
      ]
    }
  ],
  "metadata": {
    "colab": {
      "provenance": []
    },
    "kernelspec": {
      "display_name": "Python 3",
      "name": "python3"
    },
    "language_info": {
      "name": "python"
    }
  },
  "nbformat": 4,
  "nbformat_minor": 0
}